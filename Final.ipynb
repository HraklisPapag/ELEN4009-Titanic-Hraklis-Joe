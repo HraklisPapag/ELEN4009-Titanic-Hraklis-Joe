{
 "cells": [
  {
   "cell_type": "markdown",
   "metadata": {},
   "source": [
    "# ELEN4009A Software Engineering Group Project\n",
    "## Hraklis Papageorgiou -2137492\n",
    "## Joseph Baggott - 2169705\n",
    "\n",
    "Kaggle is an online community of machine learning and data-scientist practitioners. It hosts competitions and challenges one to learn about data analysis and machine learning. Is this project the titanic Kaggle competition is completed. Participants must use “machine learning to create a model that predicts which passengers survived the Titanic shipwreck” – Kaggle Titanic competition (https://www.kaggle.com/competitions/titanic/overview). \n",
    "\n",
    "The competition provides two sets of data on the shipwreck – training and testing data. The difference between the two is that the training data contains information about whether the passengers survived, and the testing data does not. The model must then predict whether the passengers in the testing data survived and the output of this is then uploaded to Kaggle for them to score. \n",
    "### RMS Titanic\n",
    "![Titanic](./pictures/titanic.webp)\n",
    "On the 15th of April 1912, the RMS Titanic sunk on her maiden voyage after colliding with an iceberg. The death toll was extremely high, killing 1502 out of 2224 passengers and crew. \n",
    "\n",
    "There were not enough lifeboats for all the passengers and crew of the titanic. As a result, certain groups had a higher chance of surviving the catastrophe than others. Whether it be women, children, or the upper class. This project will elaborate on identifying these groups within the provided data and using this insight to create an accurate and prediction model.\n",
    "\n"
   ]
  },
  {
   "cell_type": "markdown",
   "metadata": {},
   "source": [
    "### Importing Dependancies and Data. Defining Data Visualisation tool to View the Survivors For a Given Feature."
   ]
  },
  {
   "cell_type": "code",
   "execution_count": 1,
   "metadata": {},
   "outputs": [],
   "source": [
    "import numpy as np\n",
    "import matplotlib.pyplot as plt\n",
    "import pandas as pd\n",
    "\n",
    "import pandas_profiling as pp\n",
    "import warnings\n",
    "warnings.filterwarnings('ignore')\n",
    "\n",
    "import pylab \n",
    "import seaborn as sns"
   ]
  },
  {
   "cell_type": "code",
   "execution_count": 2,
   "metadata": {},
   "outputs": [],
   "source": [
    "# Importing Data + Combing train and test data\n",
    "train = pd.read_csv('train.csv') \n",
    "test = pd.read_csv('test.csv') \n",
    "test_ids = test['PassengerId']\n",
    "Test_ID = test.PassengerId\n",
    "# Combining Test and Train Data - this is in order to obtain a more holistic view of the data (Insert -1 For survived under test data)\n",
    "test.insert(loc=1, column='Survived', value=-1)\n",
    "data = pd.concat([train, test], ignore_index=True)\n"
   ]
  },
  {
   "cell_type": "code",
   "execution_count": 3,
   "metadata": {},
   "outputs": [],
   "source": [
    "# Data visualisation Tool\n",
    "def charts(feature, df):\n",
    "    print('\\n           ____________________________ Plots of', feature, 'per Survived and Dead: ____________________________')\n",
    "    # Pie of all Data\n",
    "    fig = plt.figure(figsize=(20,5))\n",
    "    f1 = fig.add_subplot(131)\n",
    "    cnt = df[feature].value_counts()\n",
    "    g = plt.pie(cnt, labels=cnt.index, autopct='%1.1f%%', shadow=True, startangle=90)\n",
    "    \n",
    "    # Count Plot By Survived and Dead\n",
    "    f = fig.add_subplot(132)\n",
    "    g = sns.countplot(x=feature, hue='Survived', hue_order=[1,0], data=df, ax=f)\n",
    "\n",
    "    # Percent stacked Plot\n",
    "    survived = df[df['Survived']==1][feature].value_counts()\n",
    "    dead = df[df['Survived']==0][feature].value_counts()\n",
    "    df2 = pd.DataFrame([survived,dead])\n",
    "    df2.index = ['Survived','Dead']\n",
    "    df2 = df2.T\n",
    "    df2 = df2.fillna(0)\n",
    "    df2['Total'] = df2.Survived + df2.Dead\n",
    "    df2.Survived = df2.Survived/df2.Total\n",
    "    df2.Dead = df2.Dead/df2.Total\n",
    "    df2.drop(['Total'], axis=1, inplace=True)\n",
    "    f = fig.add_subplot(133)\n",
    "    df2.plot(kind='bar', stacked=True, ax=f)\n",
    "    del df2, g, f, cnt, dead, fig"
   ]
  },
  {
   "cell_type": "code",
   "execution_count": 4,
   "metadata": {},
   "outputs": [],
   "source": [
    "from sklearn.metrics import accuracy_score, classification_report, confusion_matrix\n",
    "def print_score(clf, X_train, y_train, train=True):\n",
    "    '''\n",
    "    print the accuracy score, classification report and confusion matrix of classifier\n",
    "    '''\n",
    "    if train:\n",
    "        '''\n",
    "        training performance\n",
    "        '''\n",
    "        print(\"Train Result:\\n\")\n",
    "        y_train_predict=clf.predict(X_train);\n",
    "        print(\"accuracy score: {0:.4f}\\n\".format(accuracy_score(y_train, y_train_predict)))\n",
    "        print(\"Classification Report: \\n {}\\n\".format(classification_report(y_train,y_train_predict)))\n",
    "        print(\"Confusion Matrix: \\n {}\\n\".format(confusion_matrix(y_train, y_train_predict)))\n",
    "\n",
    "        res = cross_val_score(clf, X_train, y_train, cv=10, scoring='accuracy')\n",
    "        print(\"Average Accuracy: \\t {0:.4f}\".format(np.mean(res)))\n",
    "        print(\"Accuracy SD: \\t\\t {0:.4f}\".format(np.std(res)))"
   ]
  },
  {
   "cell_type": "markdown",
   "metadata": {},
   "source": [
    "# Analysing The Provided Data"
   ]
  },
  {
   "cell_type": "markdown",
   "metadata": {},
   "source": [
    "First we will start by looking at the default features in the dataset as well as missing features. \n",
    "The Following is the description of each of the features:\n",
    "* Pclass: The class that the passenger was in 1 - first, 2 - second, 3 - third. \n",
    "* Name: Simply the name of passenger - includes title.\n",
    "* Sex: The gender of the passenger.\n",
    "* SibSp: The number of siblings and spouses on board with that passenger.\n",
    "* Parch: The number of parents or children on board with that passenger.\n",
    "* Ticket: The ticket ID of that passenger.\n",
    "* Fare: The price of the ticket used by that passenger.\n",
    "* Cabin: The cabin that the passenger stayed in. \n",
    "* Embarked: Where that passenger embarked. "
   ]
  },
  {
   "cell_type": "code",
   "execution_count": 5,
   "metadata": {},
   "outputs": [
    {
     "data": {
      "text/html": [
       "<div>\n",
       "<style scoped>\n",
       "    .dataframe tbody tr th:only-of-type {\n",
       "        vertical-align: middle;\n",
       "    }\n",
       "\n",
       "    .dataframe tbody tr th {\n",
       "        vertical-align: top;\n",
       "    }\n",
       "\n",
       "    .dataframe thead th {\n",
       "        text-align: right;\n",
       "    }\n",
       "</style>\n",
       "<table border=\"1\" class=\"dataframe\">\n",
       "  <thead>\n",
       "    <tr style=\"text-align: right;\">\n",
       "      <th></th>\n",
       "      <th>PassengerId</th>\n",
       "      <th>Survived</th>\n",
       "      <th>Pclass</th>\n",
       "      <th>Name</th>\n",
       "      <th>Sex</th>\n",
       "      <th>Age</th>\n",
       "      <th>SibSp</th>\n",
       "      <th>Parch</th>\n",
       "      <th>Ticket</th>\n",
       "      <th>Fare</th>\n",
       "      <th>Cabin</th>\n",
       "      <th>Embarked</th>\n",
       "    </tr>\n",
       "  </thead>\n",
       "  <tbody>\n",
       "    <tr>\n",
       "      <th>0</th>\n",
       "      <td>1</td>\n",
       "      <td>0</td>\n",
       "      <td>3</td>\n",
       "      <td>Braund, Mr. Owen Harris</td>\n",
       "      <td>male</td>\n",
       "      <td>22.0</td>\n",
       "      <td>1</td>\n",
       "      <td>0</td>\n",
       "      <td>A/5 21171</td>\n",
       "      <td>7.25</td>\n",
       "      <td>NaN</td>\n",
       "      <td>S</td>\n",
       "    </tr>\n",
       "  </tbody>\n",
       "</table>\n",
       "</div>"
      ],
      "text/plain": [
       "   PassengerId  Survived  Pclass                     Name   Sex   Age  SibSp  \\\n",
       "0            1         0       3  Braund, Mr. Owen Harris  male  22.0      1   \n",
       "\n",
       "   Parch     Ticket  Fare Cabin Embarked  \n",
       "0      0  A/5 21171  7.25   NaN        S  "
      ]
     },
     "execution_count": 5,
     "metadata": {},
     "output_type": "execute_result"
    }
   ],
   "source": [
    "data.head(1)"
   ]
  },
  {
   "cell_type": "code",
   "execution_count": 6,
   "metadata": {},
   "outputs": [
    {
     "data": {
      "text/plain": [
       "PassengerId       0\n",
       "Survived          0\n",
       "Pclass            0\n",
       "Name              0\n",
       "Sex               0\n",
       "Age             263\n",
       "SibSp             0\n",
       "Parch             0\n",
       "Ticket            0\n",
       "Fare              1\n",
       "Cabin          1014\n",
       "Embarked          2\n",
       "dtype: int64"
      ]
     },
     "execution_count": 6,
     "metadata": {},
     "output_type": "execute_result"
    }
   ],
   "source": [
    "data.isna().sum()"
   ]
  },
  {
   "cell_type": "markdown",
   "metadata": {},
   "source": [
    "We see that most of the data is complete except for age, fare, and cabin. We will deal with these later in the notebook. \n",
    "\n",
    "The parameters that immediately draw the most attention are Sex, Class, Fare and Age. This is because women and children took a preference for places on the lifeboats, and first-class also had higher survival rates. This is corroborated by the data visualisation.  \n",
    "\n"
   ]
  },
  {
   "cell_type": "markdown",
   "metadata": {},
   "source": [
    "### Sex"
   ]
  },
  {
   "cell_type": "markdown",
   "metadata": {},
   "source": [
    "As shown by the graphs below, women have a far more significant survival rate than men. "
   ]
  },
  {
   "cell_type": "code",
   "execution_count": 7,
   "metadata": {},
   "outputs": [
    {
     "name": "stdout",
     "output_type": "stream",
     "text": [
      "\n",
      "           ____________________________ Plots of Sex per Survived and Dead: ____________________________\n"
     ]
    },
    {
     "data": {
      "image/png": "[encoded data removed]",
      "text/plain": [
       "<Figure size 1440x360 with 3 Axes>"
      ]
     },
     "metadata": {
      "needs_background": "light"
     },
     "output_type": "display_data"
    }
   ],
   "source": [
    "charts('Sex', data[data.Survived>=0])"
   ]
  },
  {
   "cell_type": "markdown",
   "metadata": {},
   "source": [
    "### Class"
   ]
  },
  {
   "cell_type": "markdown",
   "metadata": {},
   "source": [
    "As expected, people in higher classes had higher chances of survival. This is likely due to fact that classes were further from the deck as the class decreased and because of socioeconomic discrimination. This is again corroborated by the graphs. "
   ]
  },
  {
   "cell_type": "code",
   "execution_count": 8,
   "metadata": {},
   "outputs": [
    {
     "name": "stdout",
     "output_type": "stream",
     "text": [
      "\n",
      "           ____________________________ Plots of Pclass per Survived and Dead: ____________________________\n"
     ]
    },
    {
     "data": {
      "image/png": "[encoded data removed]",
      "text/plain": [
       "<Figure size 1440x360 with 3 Axes>"
      ]
     },
     "metadata": {
      "needs_background": "light"
     },
     "output_type": "display_data"
    }
   ],
   "source": [
    "charts('Pclass', data[data.Survived>=0])"
   ]
  },
  {
   "cell_type": "markdown",
   "metadata": {},
   "source": [
    "### Fare and Age\n",
    "Fare is another indicator of socioeconomic standing, and as a result, also has a correlation with survival chances. This is shown later in the notebook.\n",
    "\n",
    "Again, children took preference over adults and this is also shown later in the notebook."
   ]
  },
  {
   "cell_type": "code",
   "execution_count": 9,
   "metadata": {},
   "outputs": [],
   "source": [
    "# Fill empty Fare Value with mean fare - only one fare value is missing so this is adequate\n",
    "mean_value = data['Fare'].mean().round(4)\n",
    "data['Fare'].fillna(value = mean_value, inplace = True)\n"
   ]
  },
  {
   "cell_type": "markdown",
   "metadata": {},
   "source": [
    "### Embarked\n",
    "Interestingly there was a slight correclation with the location a passenger boarded and their survival. The single missing value is replaced by S - the highest occuring location. Again this correlation may be due to Socioeconomic reasons, whereby richer passengers came from certain areas. For instance, the crew boarded at Southampton [3].  "
   ]
  },
  {
   "cell_type": "code",
   "execution_count": 10,
   "metadata": {},
   "outputs": [
    {
     "name": "stdout",
     "output_type": "stream",
     "text": [
      "\n",
      "           ____________________________ Plots of Embarked per Survived and Dead: ____________________________\n"
     ]
    },
    {
     "data": {
      "image/png": "[encoded data removed]",
      "text/plain": [
       "<Figure size 1440x360 with 3 Axes>"
      ]
     },
     "metadata": {
      "needs_background": "light"
     },
     "output_type": "display_data"
    }
   ],
   "source": [
    "data.Embarked.fillna(\"S\", inplace=True)\n",
    "charts('Embarked', data[data.Survived>=0])"
   ]
  },
  {
   "cell_type": "markdown",
   "metadata": {},
   "source": [
    "### Name, Ticket and Cabin\n",
    "One's first instinct is to drop these features. Given that Name and Ticket is categorical data and because there are so many values missing in the Cabin. However, there is valuable information is all these categories. This is explored later in the notebook."
   ]
  },
  {
   "cell_type": "markdown",
   "metadata": {},
   "source": [
    "# Title\n",
    "As mentioned above, at first it seems that there is little information in the names of the passengers. However, in each of the names, there is a title. This title is interesting, because it contains information about the age, sex, and marital status of the passenger. \n"
   ]
  },
  {
   "cell_type": "markdown",
   "metadata": {},
   "source": [
    "The majority of passengers have one of the following Titles:\n",
    "* Mr.\n",
    "* Mrs.\n",
    "* Miss.\n",
    "* Master\n",
    "\n",
    "The term 'other' represents any other Title that a passenger may have, such as Sir., Dr. or Rev. to name a few.\n",
    "These titles were all grouped under other because there are so few of them. For example it would not be worthwhile to have a title specifcally for Sir. as there is only one passenger with that title."
   ]
  },
  {
   "cell_type": "markdown",
   "metadata": {},
   "source": [
    "The graphs below show that there is a strong correlation between the title of the passenger and the chance of survival. "
   ]
  },
  {
   "cell_type": "code",
   "execution_count": 11,
   "metadata": {},
   "outputs": [],
   "source": [
    "# Function to find the title in 'Name'\n",
    "def find_title(name):\n",
    "    if 'Mr.' in name:\n",
    "        return 'Mr.'\n",
    "    elif 'Mrs.' in name:\n",
    "        return 'Mrs.'\n",
    "    elif 'Miss.' in name:\n",
    "        return 'Miss.'\n",
    "    elif 'Master.' in name:\n",
    "        return 'Master.'\n",
    "    else:\n",
    "        return 'other'"
   ]
  },
  {
   "cell_type": "code",
   "execution_count": 12,
   "metadata": {},
   "outputs": [],
   "source": [
    "# Add new column 'Title' and populate it with the title extracted from 'Name'\n",
    "data[\"Title\"] = None\n",
    "data['Title'] = data['Name'].apply(find_title)\n",
    "# Now that all the information is extracted from the name of the passenger, we can drop the name to clean the dataframe. \n",
    "data.drop('Name', axis =1, inplace = True)"
   ]
  },
  {
   "cell_type": "code",
   "execution_count": 13,
   "metadata": {},
   "outputs": [
    {
     "name": "stdout",
     "output_type": "stream",
     "text": [
      "\n",
      "           ____________________________ Plots of Title per Survived and Dead: ____________________________\n"
     ]
    },
    {
     "data": {
      "image/png": "[encoded data removed]",
      "text/plain": [
       "<Figure size 1440x360 with 3 Axes>"
      ]
     },
     "metadata": {
      "needs_background": "light"
     },
     "output_type": "display_data"
    }
   ],
   "source": [
    "charts('Title', data[data.Survived>=0])"
   ]
  },
  {
   "cell_type": "markdown",
   "metadata": {},
   "source": [
    "# Filling Null Values for Age"
   ]
  },
  {
   "cell_type": "markdown",
   "metadata": {},
   "source": [
    "Because there is such a high number of passengers that are missing an age value. Lots of information would be lost if these values were simply replaced by the median or mean of the overall age. As a result, a more complex method has been used to calculate the age for the Null values. \n",
    "\n",
    "\n",
    "Finally, lots of information about the passengers aboard the Titanic was obtained after it struck the iceberg. This means that when the age of a person is unknown it is likely that they perished during the catastrophe - this information is captured below. "
   ]
  },
  {
   "cell_type": "markdown",
   "metadata": {},
   "source": [
    "The three major features that can indicate what the age of a passenger may be are: Title, Pclass and Parch\n",
    "A pssenger's title can indicate in the following way:\n",
    "\n",
    "Age by Title:\n",
    "* Master. - Title given to a male below the age of 18. \n",
    "* Mr. - Title given to a male above the age of 18.\n",
    "* Miss - Title given to an unmarried woman, woman who are not married tend to be youger, such as female children\n",
    "* Mrs - Title given to a married woman, a woman needs to be of legal age in order to be married. ie at least above the age of 18\n",
    "\n",
    "A passenger's Parch is useful as it indicates how many children or parents a passenger has and is particulary useful when used alongside Title\n",
    "* Parch can further identify a Miss. because a Miss. with a non zero parch value indicates that they are onboard with their parents indicating that they are a child. A Miss. is unlikely to have children as they are not married so the parch value can be interpreted as solely having parents on board. If the parch value is zero the passenger is an adult woman yet to be married and likely above the age of 18 since they do not need to travel with their parents.\n",
    "* Similarily, the parch value for a Mr. indicates if they have children on board, so a Mr. with a non-zero parch value would typically be older than a Mr. with a zero parch value.\n",
    "\n",
    "Pclass:\n",
    "\n",
    "A passenger's class is useful because a person tends to be older if they are in a higher income bracket. \n"
   ]
  },
  {
   "cell_type": "code",
   "execution_count": 14,
   "metadata": {},
   "outputs": [
    {
     "data": {
      "text/html": [
       "<div>\n",
       "<style scoped>\n",
       "    .dataframe tbody tr th:only-of-type {\n",
       "        vertical-align: middle;\n",
       "    }\n",
       "\n",
       "    .dataframe tbody tr th {\n",
       "        vertical-align: top;\n",
       "    }\n",
       "\n",
       "    .dataframe thead th {\n",
       "        text-align: right;\n",
       "    }\n",
       "</style>\n",
       "<table border=\"1\" class=\"dataframe\">\n",
       "  <thead>\n",
       "    <tr style=\"text-align: right;\">\n",
       "      <th></th>\n",
       "      <th>PassengerId</th>\n",
       "      <th>Survived</th>\n",
       "      <th>Pclass</th>\n",
       "      <th>Sex</th>\n",
       "      <th>Age</th>\n",
       "      <th>SibSp</th>\n",
       "      <th>Parch</th>\n",
       "      <th>Ticket</th>\n",
       "      <th>Fare</th>\n",
       "      <th>Cabin</th>\n",
       "      <th>Embarked</th>\n",
       "      <th>Title</th>\n",
       "      <th>isAgeNull</th>\n",
       "    </tr>\n",
       "  </thead>\n",
       "  <tbody>\n",
       "    <tr>\n",
       "      <th>0</th>\n",
       "      <td>1</td>\n",
       "      <td>0</td>\n",
       "      <td>3</td>\n",
       "      <td>male</td>\n",
       "      <td>22.0</td>\n",
       "      <td>1</td>\n",
       "      <td>0</td>\n",
       "      <td>A/5 21171</td>\n",
       "      <td>7.25</td>\n",
       "      <td>NaN</td>\n",
       "      <td>S</td>\n",
       "      <td>Mr.</td>\n",
       "      <td>1</td>\n",
       "    </tr>\n",
       "  </tbody>\n",
       "</table>\n",
       "</div>"
      ],
      "text/plain": [
       "   PassengerId  Survived  Pclass   Sex   Age  SibSp  Parch     Ticket  Fare  \\\n",
       "0            1         0       3  male  22.0      1      0  A/5 21171  7.25   \n",
       "\n",
       "  Cabin Embarked Title  isAgeNull  \n",
       "0   NaN        S   Mr.          1  "
      ]
     },
     "execution_count": 14,
     "metadata": {},
     "output_type": "execute_result"
    }
   ],
   "source": [
    "# Add New column 'isAgeNull' and Populate it with if the Age value is missing or not\n",
    "data['isAgeNull'] = None\n",
    "data['isAgeNull'] = (~data['Age'].isnull()).astype(int)\n",
    "data.head(1)"
   ]
  },
  {
   "cell_type": "code",
   "execution_count": 15,
   "metadata": {},
   "outputs": [],
   "source": [
    "# Find mean age by Pclass, Parch and Title and set missing values in Age to the respective mean\n",
    "data['Age'] = data.groupby(['Parch','Pclass', 'Title'])['Age'].apply(lambda group: round(group.fillna(group.mean()), 1))"
   ]
  },
  {
   "cell_type": "code",
   "execution_count": 16,
   "metadata": {},
   "outputs": [
    {
     "data": {
      "text/plain": [
       "PassengerId       0\n",
       "Survived          0\n",
       "Pclass            0\n",
       "Sex               0\n",
       "Age               0\n",
       "SibSp             0\n",
       "Parch             0\n",
       "Ticket            0\n",
       "Fare              0\n",
       "Cabin          1014\n",
       "Embarked          0\n",
       "Title             0\n",
       "isAgeNull         0\n",
       "dtype: int64"
      ]
     },
     "execution_count": 16,
     "metadata": {},
     "output_type": "execute_result"
    }
   ],
   "source": [
    "# Need to account for the 3 remaining missing values in Age, so drop 'Parch' in the mean calculation to account for \n",
    "# The Sage parents with 9 children \n",
    "# and then drop 'Title' and replace with 'Sex' for person with Ms. title\n",
    "data['Age'] = data.groupby(['Pclass', 'Title'])['Age'].apply(lambda group: round(group.fillna(group.mean()), 1))\n",
    "data['Age'] = data.groupby(['Parch','Pclass', 'Sex'])['Age'].apply(lambda group: round(group.fillna(group.mean()), 1))\n",
    "data.isna().sum()\n"
   ]
  },
  {
   "cell_type": "markdown",
   "metadata": {},
   "source": [
    "### Binning Age\n",
    "In order to get more consistent results, ages have been binned. \n",
    "Binning is used to reduce noise and simplifys the relationship that a feature may provide. It is useful as it puts similar values together. Binning can allow certain trends to be better recognised in graphs or by the Machine learning model, since the data is simplified to a few catogories instead of a large continuous set. \n",
    "\n",
    "Binning the Age feature indicates which groups of ages were most likely to have survived. The graph below shows that passengers who are infants, survive almost 100% of the time. Young children are also more likely to survive, since children tend to be prioritised in crisis. Conversly older individuals tend to die as they are physically weaker and prioritised less. For the old and young passengers, it can be noted that the effect that outliers have on the feature are mitigated. "
   ]
  },
  {
   "cell_type": "code",
   "execution_count": 17,
   "metadata": {},
   "outputs": [
    {
     "name": "stdout",
     "output_type": "stream",
     "text": [
      "\n",
      "           ____________________________ Plots of binned_age per Survived and Dead: ____________________________\n"
     ]
    },
    {
     "data": {
      "image/png": "[encoded data removed]",
      "text/plain": [
       "<Figure size 1440x360 with 3 Axes>"
      ]
     },
     "metadata": {
      "needs_background": "light"
     },
     "output_type": "display_data"
    }
   ],
   "source": [
    "bins = [0, 1.7, 8, 18,25,55,65,100]\n",
    "data['binned_age'] = pd.cut(data['Age'], bins)\n",
    "charts('binned_age', data[(data.Survived>=0)])"
   ]
  },
  {
   "cell_type": "markdown",
   "metadata": {},
   "source": [
    "# Family\n",
    "![Sage Family](./pictures/sage-family.jpg)\n",
    "\n",
    "The Sage Family: Family of 11 Who All Perished on The RMS Titanic. \n",
    "\n",
    "While there is some correlation between the number of siblings, parents and survival, a more robust feature would be measuring the family. The graphs below show that a passenger’s chances of survival are greater if they are traveling with a family under four members. \n",
    "\n",
    "From the Family chart below it can be noed that if a passenger has no realtives on board they are likely to not survive, this idea is reinforced by the hasFamily Chart below. "
   ]
  },
  {
   "cell_type": "code",
   "execution_count": 18,
   "metadata": {},
   "outputs": [
    {
     "name": "stdout",
     "output_type": "stream",
     "text": [
      "\n",
      "           ____________________________ Plots of Family per Survived and Dead: ____________________________\n"
     ]
    },
    {
     "data": {
      "image/png": "[encoded data removed]",
      "text/plain": [
       "<Figure size 1440x360 with 3 Axes>"
      ]
     },
     "metadata": {
      "needs_background": "light"
     },
     "output_type": "display_data"
    }
   ],
   "source": [
    "# Add new column 'Family' and populate it with the sum of 'Parch' and 'SibSp'\n",
    "data['Family'] = None\n",
    "family_col = data['Parch'] + data['SibSp']\n",
    "data['Family'] = family_col\n",
    "charts('Family', data[(data.Survived>=0)])"
   ]
  },
  {
   "cell_type": "code",
   "execution_count": 19,
   "metadata": {},
   "outputs": [],
   "source": [
    "# Creating a Feature of Whether there is a family member of not. \n",
    "def family_zero(family):\n",
    "    if family == 0:\n",
    "        return 1\n",
    "    else:\n",
    "        return 0\n",
    "\n",
    "data['hasFamily'] = data['Family'].apply(family_zero)"
   ]
  },
  {
   "cell_type": "code",
   "execution_count": 20,
   "metadata": {},
   "outputs": [
    {
     "name": "stdout",
     "output_type": "stream",
     "text": [
      "\n",
      "           ____________________________ Plots of hasFamily per Survived and Dead: ____________________________\n"
     ]
    },
    {
     "data": {
      "image/png": "[encoded data removed]",
      "text/plain": [
       "<Figure size 1440x360 with 3 Axes>"
      ]
     },
     "metadata": {
      "needs_background": "light"
     },
     "output_type": "display_data"
    }
   ],
   "source": [
    "charts('hasFamily', data[(data.Survived>=0)])"
   ]
  },
  {
   "cell_type": "markdown",
   "metadata": {},
   "source": [
    "# Ticket Data"
   ]
  },
  {
   "cell_type": "markdown",
   "metadata": {},
   "source": [
    "![Ticket](./pictures/ticket.webp)\n",
    "\n",
    "### Shared Tickets\n",
    "\n",
    "As mentioned above, at first one would be lead to suggest that there is little information in the Ticket number of the passengers. But on further inspection, one finds that there are duplicate tickets. This means that when traveling in a group (for instance a family) one ticket would be bought for the entire group. "
   ]
  },
  {
   "cell_type": "code",
   "execution_count": 21,
   "metadata": {},
   "outputs": [
    {
     "name": "stdout",
     "output_type": "stream",
     "text": [
      "\n",
      "           ____________________________ Plots of Shared_Ticket per Survived and Dead: ____________________________\n"
     ]
    },
    {
     "data": {
      "image/png": "[encoded data removed]",
      "text/plain": [
       "<Figure size 1440x360 with 3 Axes>"
      ]
     },
     "metadata": {
      "needs_background": "light"
     },
     "output_type": "display_data"
    }
   ],
   "source": [
    "duplicate_ticket = data.Ticket.value_counts()\n",
    "data['Shared_Ticket'] = data.Ticket.apply(lambda x: duplicate_ticket[x])\n",
    "del duplicate_ticket\n",
    "charts('Shared_Ticket', data[data.Survived>=0])\n"
   ]
  },
  {
   "cell_type": "markdown",
   "metadata": {},
   "source": [
    "This graph is very similar to that of the graph produced for the family. This observation makes sense, as families would travel together in a group. However, this shared ticket category now contains extra information. The shared ticket category now contains information about whether a passenger is traveling with people that aren’t family. For instance, a friend or nanny. "
   ]
  },
  {
   "cell_type": "markdown",
   "metadata": {},
   "source": [
    "### Binning shared_tickets\n",
    "As shown by the graphs above the number of people with five or more shared tickets is proportionally very low. As a result, a binning strategy has been utilized here to increase the number of passengers per category. Furthermore, due to the similarity between 3 and 4 shared tickets – these two categories have been binned together. "
   ]
  },
  {
   "cell_type": "code",
   "execution_count": 22,
   "metadata": {},
   "outputs": [
    {
     "name": "stdout",
     "output_type": "stream",
     "text": [
      "\n",
      "           ____________________________ Plots of Shared_Ticket_Bin per Survived and Dead: ____________________________\n"
     ]
    },
    {
     "data": {
      "image/png": "[encoded data removed]",
      "text/plain": [
       "<Figure size 1440x360 with 3 Axes>"
      ]
     },
     "metadata": {
      "needs_background": "light"
     },
     "output_type": "display_data"
    }
   ],
   "source": [
    "data['Shared_Ticket_Bin'] = data.Shared_Ticket.apply(lambda x: 3 if (x>2 and x<5) else (5 if x>4 else x))\n",
    "charts('Shared_Ticket_Bin', data[data.Survived>=0])   "
   ]
  },
  {
   "cell_type": "markdown",
   "metadata": {},
   "source": [
    "### Type Of Ticket\n",
    "There were different types of tickets that were allocated to the passengers on the titanic. For instance, if the passenger was part of the crew or a VIP their ticket would start with an alphanumeric. Do to the differences in the people that these different tickets were assinged to there may be information in the type of tickets that could prove usefull in predicting the survival of a passenger. "
   ]
  },
  {
   "cell_type": "code",
   "execution_count": 23,
   "metadata": {},
   "outputs": [
    {
     "name": "stdout",
     "output_type": "stream",
     "text": [
      "\n",
      "           ____________________________ Plots of TypeTicket per Survived and Dead: ____________________________\n"
     ]
    },
    {
     "data": {
      "image/png": "[encoded data removed]",
      "text/plain": [
       "<Figure size 1440x360 with 3 Axes>"
      ]
     },
     "metadata": {
      "needs_background": "light"
     },
     "output_type": "display_data"
    }
   ],
   "source": [
    "data['TypeTicket'] =(data.Ticket.str.findall('[A-z]').apply(lambda x: ''.join(map(str, x)).strip('[]')))\n",
    "data.TypeTicket = data.TypeTicket.apply(lambda y: 'Without' if y=='' else y if (y in ['PC', 'CA', 'A', 'SOTONOQ', 'STONO', 'WC', 'SCPARIS']) else 'Others')\n",
    "\n",
    "charts('TypeTicket', data[(data.Survived>=0)])"
   ]
  },
  {
   "cell_type": "markdown",
   "metadata": {},
   "source": [
    "### Binning Type of Ticket\n",
    "Because the sample number for some of the types of tickets is very low, it makes sense to bin similar ticket types together. As shown by the graph below there is a correlation bellow there is a correlation between the type of ticket and the chances of survival. \n"
   ]
  },
  {
   "cell_type": "code",
   "execution_count": 24,
   "metadata": {},
   "outputs": [
    {
     "name": "stdout",
     "output_type": "stream",
     "text": [
      "\n",
      "           ____________________________ Plots of TypeTicketBin per Survived and Dead: ____________________________\n"
     ]
    },
    {
     "data": {
      "image/png": "[encoded data removed]",
      "text/plain": [
       "<Figure size 1440x360 with 3 Axes>"
      ]
     },
     "metadata": {
      "needs_background": "light"
     },
     "output_type": "display_data"
    }
   ],
   "source": [
    "data['TypeTicketBin'] = data.TypeTicket.apply(lambda y: 'Others' if (y in ['Without', 'Others', 'CA']) else\\\n",
    "        'Low' if (y in ['A', 'SOTONOQ', 'WC']) else\\\n",
    "        'High' if (y in ['STONO', 'SCPARIS']) else y)\n",
    "\n",
    "charts('TypeTicketBin', data[(data.Survived>=0)])"
   ]
  },
  {
   "cell_type": "markdown",
   "metadata": {},
   "source": [
    "# Fare"
   ]
  },
  {
   "cell_type": "markdown",
   "metadata": {},
   "source": [
    "As mentioned in the ticket section, when travelling with a group, tickets are shared. For example, when travelling with a group of two the fare will be double that of what is actually paid by an individual passenger in a group. As a result, by using the fare and the number of people per ticket, we can calculate the true fare per passenger. "
   ]
  },
  {
   "cell_type": "code",
   "execution_count": 25,
   "metadata": {},
   "outputs": [],
   "source": [
    "# Creating and Looking at the actual passenger fare\n",
    "data['True_Fare'] = data.Fare / data.Shared_Ticket"
   ]
  },
  {
   "cell_type": "markdown",
   "metadata": {},
   "source": [
    "# CABINS"
   ]
  },
  {
   "cell_type": "markdown",
   "metadata": {},
   "source": [
    "Unfortunately, most cabins are null values, however, they may contain important information. For instance, the letter that prefixes the cabin number determines the deck that the passenger was on. The following two diagrams show the deck layout and the water level as the Titanic sunk. \n",
    "\n",
    "![Deck](./pictures/titanic2.gif)\n",
    "![water](./pictures/waterlevel.gif)\n",
    "\n",
    "As illustrated by the two diagrams there were sides of the ship, where when a passenger would stay there, they had a higher chance of survival. As a result, it may be useful to determine the cabin letter that the passengers stayed in. \n",
    "\n"
   ]
  },
  {
   "cell_type": "markdown",
   "metadata": {},
   "source": [
    "An interesting point is that the cabins in which the passengers stayed were only recorded after the titanic sunk. So only the survivors of the catastrophe could say which cabins they or their deceased partners stayed in. As a result, this information is captured below. "
   ]
  },
  {
   "cell_type": "code",
   "execution_count": 26,
   "metadata": {},
   "outputs": [
    {
     "name": "stdout",
     "output_type": "stream",
     "text": [
      "\n",
      "           ____________________________ Plots of isCabinNull per Survived and Dead: ____________________________\n"
     ]
    },
    {
     "data": {
      "image/png": "[encoded data removed]",
      "text/plain": [
       "<Figure size 1440x360 with 3 Axes>"
      ]
     },
     "metadata": {
      "needs_background": "light"
     },
     "output_type": "display_data"
    }
   ],
   "source": [
    "data['isCabinNull'] = None\n",
    "data['isCabinNull'] = (~data['Cabin'].isnull()).astype(int)\n",
    "charts('isCabinNull', data[(data.Survived>=0)])"
   ]
  },
  {
   "cell_type": "markdown",
   "metadata": {},
   "source": [
    "The Graphs above show that when the cabin of the passenger is known there is a 70% chance of surviving as compared to a 30% chance of surviving. "
   ]
  },
  {
   "cell_type": "code",
   "execution_count": 27,
   "metadata": {},
   "outputs": [],
   "source": [
    "CabinByTicket = data.loc[~data.Cabin.isnull(), ['Ticket', 'Cabin']].groupby(by='Ticket').agg(min)\n",
    "data.loc[data.Cabin.isnull(), 'Cabin'] = data.loc[data.Cabin.isnull(), 'Ticket'].\\\n",
    "    apply(lambda x: CabinByTicket[CabinByTicket.index==x].min())\n",
    "del CabinByTicket, "
   ]
  },
  {
   "cell_type": "code",
   "execution_count": 28,
   "metadata": {},
   "outputs": [],
   "source": [
    "# setting all the null cabins to N999\n",
    "data.Cabin[data.Cabin.isnull()] = 'X'\n",
    "data['Cabin_Letter'] = data.Cabin.str.findall('[^a-z]\\d\\d*')\n",
    "data['Cabin_Number'] = data.apply(lambda x: 0 if len(str(x.Cabin))== 1 else np.int(np.int(x.Cabin_Letter[0][1:])/10), axis=1)\n",
    "data.Cabin_Letter = data.apply(lambda x: x.Cabin if len(str(x.Cabin))== 1 else x.Cabin_Letter[0][0], axis=1)"
   ]
  },
  {
   "cell_type": "code",
   "execution_count": 29,
   "metadata": {},
   "outputs": [],
   "source": [
    "data.Cabin_Letter[data.Cabin_Letter=='T'] = 'C'"
   ]
  },
  {
   "cell_type": "code",
   "execution_count": 30,
   "metadata": {},
   "outputs": [],
   "source": [
    "def FindCabin(bins,cabin_class):\n",
    "    prev = 0.0\n",
    "    for i, bin in enumerate(bins):   \n",
    "        data.loc[(data.True_Fare<bin) & (data.True_Fare>=prev) & (data.Pclass==cabin_class) & (data.Cabin=='X'), 'Cabin_Letter'] =\\\n",
    "            data[(data.True_Fare<bin) & (data.True_Fare>=prev) & (data.Pclass==cabin_class) & (data.Cabin!='X')].Cabin_Letter.mode()[0]\n",
    "        data.loc[(data.True_Fare<bin) & (data.True_Fare>=prev) & (data.Pclass==cabin_class) & (data.Cabin=='X'), 'Cabin_Number'] =\\\n",
    "            data[(data.True_Fare<bin) & (data.True_Fare>=prev) & (data.Pclass==cabin_class) & (data.Cabin!='X')].Cabin_Number.mode()[0]\n",
    "        if (i==len(bins)-1):\n",
    "            data.loc[(data.True_Fare>=bin) & (data.Pclass==cabin_class) & (data.Cabin=='X'), 'Cabin_Letter'] =\\\n",
    "                data[(data.True_Fare>=bin) & (data.Pclass==cabin_class) & (data.Cabin!='X')].Cabin_Letter.mode()[0]\n",
    "            data.loc[(data.True_Fare>=bin) & (data.Pclass==cabin_class) & (data.Cabin=='X'), 'Cabin_Number'] =\\\n",
    "                data[(data.True_Fare>=bin) & (data.Pclass==cabin_class) & (data.Cabin!='X')].Cabin_Number.mode()[0]"
   ]
  },
  {
   "cell_type": "code",
   "execution_count": 31,
   "metadata": {},
   "outputs": [],
   "source": [
    "# Finding third class cabins\n",
    "bins = [6.237,7.225,7.65,7.75,8.0]\n",
    "FindCabin(bins,3)\n",
    "# Finding second class cabins\n",
    "bins = [8.59,10.5,10.501,12.5,13.0,13.1]\n",
    "FindCabin(bins,2)\n",
    "#finding first class cabins\n",
    "bins = [19.69,23.374,25.25,25.929,26.0,26.55,27.5,27.7208,29.7,30.5,30.7,31.684,39.6,41.2,45.51,49.51,70]\n",
    "FindCabin(bins,1)"
   ]
  },
  {
   "cell_type": "code",
   "execution_count": 32,
   "metadata": {},
   "outputs": [
    {
     "name": "stdout",
     "output_type": "stream",
     "text": [
      "\n",
      "           ____________________________ Plots of Cabin_Letter per Survived and Dead: ____________________________\n"
     ]
    },
    {
     "data": {
      "image/png": "[encoded data removed]",
      "text/plain": [
       "<Figure size 1440x360 with 3 Axes>"
      ]
     },
     "metadata": {
      "needs_background": "light"
     },
     "output_type": "display_data"
    }
   ],
   "source": [
    "charts('Cabin_Letter', data[(data.Survived>=0)])"
   ]
  },
  {
   "cell_type": "markdown",
   "metadata": {},
   "source": [
    "The Graphs above show that there is a definite correlation between the cabin where a passenger stayed and the chances of survival. However there are very few people is some cabins and so this may not be an accurate metric due to small sample sizes for some cabins.  "
   ]
  },
  {
   "cell_type": "code",
   "execution_count": 33,
   "metadata": {},
   "outputs": [],
   "source": [
    "# We can now drop the cabin and ticket\n",
    "data.drop('Cabin', axis=1,inplace=True)\n",
    "data.drop('Ticket', axis=1,inplace=True)"
   ]
  },
  {
   "cell_type": "markdown",
   "metadata": {},
   "source": [
    "# Choice of Machine Learning Model"
   ]
  },
  {
   "cell_type": "markdown",
   "metadata": {},
   "source": [
    "### Mapping The Data."
   ]
  },
  {
   "cell_type": "code",
   "execution_count": 34,
   "metadata": {},
   "outputs": [],
   "source": [
    "from sklearn import preprocessing\n",
    "le = preprocessing.LabelEncoder()\n",
    "\n",
    "# These are the columns that we need to map\n",
    "columns = [\"Sex\", \"Embarked\", \"Title\", \"binned_age\",\"TypeTicketBin\",\"Cabin_Letter\", \"TypeTicket\", \"Shared_Ticket_Bin\"]\n",
    "for col in columns:\n",
    "    data[col] = le.fit_transform(data[col])"
   ]
  },
  {
   "cell_type": "markdown",
   "metadata": {},
   "source": [
    "### Machine Learning Model Selection"
   ]
  },
  {
   "cell_type": "markdown",
   "metadata": {},
   "source": [
    "The following machine learning models will be examined in this section, in order to select the best performing model. \n",
    "* Logistic Regression\n",
    "* Decision Tree Classifier\n",
    "* Random Forest Classifier. \n",
    "\n",
    "These three models were chosen due to their variyng approaches at fitting the data. The best parameters for each model was chosen using feature extraction as shown below."
   ]
  },
  {
   "cell_type": "markdown",
   "metadata": {},
   "source": [
    "### Automated Feature Selection"
   ]
  },
  {
   "cell_type": "markdown",
   "metadata": {},
   "source": [
    "To find the best features for each machine learning model, the SelectFromModel library is used from Sklearn. This library determines the best features to be used by ranking all the features based on the importance of each feature. \n",
    "\n",
    "i.e. Features with high performance will be kept, and features with low or negative importances will be dropped.\n",
    "The cross validation of each model is calculated. This value indicates how well the model works for any given train-test split"
   ]
  },
  {
   "cell_type": "markdown",
   "metadata": {},
   "source": [
    "Suggested Feature Selection For Random Forest Classifier"
   ]
  },
  {
   "cell_type": "code",
   "execution_count": 35,
   "metadata": {},
   "outputs": [],
   "source": [
    "feat_data = data"
   ]
  },
  {
   "cell_type": "code",
   "execution_count": 36,
   "metadata": {},
   "outputs": [],
   "source": [
    "feat_data = feat_data.drop(['PassengerId'], axis = 1)"
   ]
  },
  {
   "cell_type": "code",
   "execution_count": 37,
   "metadata": {},
   "outputs": [
    {
     "data": {
      "text/html": [
       "<div>\n",
       "<style scoped>\n",
       "    .dataframe tbody tr th:only-of-type {\n",
       "        vertical-align: middle;\n",
       "    }\n",
       "\n",
       "    .dataframe tbody tr th {\n",
       "        vertical-align: top;\n",
       "    }\n",
       "\n",
       "    .dataframe thead th {\n",
       "        text-align: right;\n",
       "    }\n",
       "</style>\n",
       "<table border=\"1\" class=\"dataframe\">\n",
       "  <thead>\n",
       "    <tr style=\"text-align: right;\">\n",
       "      <th></th>\n",
       "      <th>Survived</th>\n",
       "      <th>Pclass</th>\n",
       "      <th>Sex</th>\n",
       "      <th>Age</th>\n",
       "      <th>SibSp</th>\n",
       "      <th>Parch</th>\n",
       "      <th>Fare</th>\n",
       "      <th>Embarked</th>\n",
       "      <th>Title</th>\n",
       "      <th>isAgeNull</th>\n",
       "      <th>...</th>\n",
       "      <th>Family</th>\n",
       "      <th>hasFamily</th>\n",
       "      <th>Shared_Ticket</th>\n",
       "      <th>Shared_Ticket_Bin</th>\n",
       "      <th>TypeTicket</th>\n",
       "      <th>TypeTicketBin</th>\n",
       "      <th>True_Fare</th>\n",
       "      <th>isCabinNull</th>\n",
       "      <th>Cabin_Letter</th>\n",
       "      <th>Cabin_Number</th>\n",
       "    </tr>\n",
       "  </thead>\n",
       "  <tbody>\n",
       "    <tr>\n",
       "      <th>0</th>\n",
       "      <td>0</td>\n",
       "      <td>3</td>\n",
       "      <td>1</td>\n",
       "      <td>22.0</td>\n",
       "      <td>1</td>\n",
       "      <td>0</td>\n",
       "      <td>7.25</td>\n",
       "      <td>2</td>\n",
       "      <td>2</td>\n",
       "      <td>1</td>\n",
       "      <td>...</td>\n",
       "      <td>1</td>\n",
       "      <td>0</td>\n",
       "      <td>1</td>\n",
       "      <td>0</td>\n",
       "      <td>0</td>\n",
       "      <td>1</td>\n",
       "      <td>7.25</td>\n",
       "      <td>0</td>\n",
       "      <td>6</td>\n",
       "      <td>0</td>\n",
       "    </tr>\n",
       "  </tbody>\n",
       "</table>\n",
       "<p>1 rows × 21 columns</p>\n",
       "</div>"
      ],
      "text/plain": [
       "   Survived  Pclass  Sex   Age  SibSp  Parch  Fare  Embarked  Title  \\\n",
       "0         0       3    1  22.0      1      0  7.25         2      2   \n",
       "\n",
       "   isAgeNull  ...  Family  hasFamily  Shared_Ticket  Shared_Ticket_Bin  \\\n",
       "0          1  ...       1          0              1                  0   \n",
       "\n",
       "   TypeTicket  TypeTicketBin  True_Fare  isCabinNull  Cabin_Letter  \\\n",
       "0           0              1       7.25            0             6   \n",
       "\n",
       "   Cabin_Number  \n",
       "0             0  \n",
       "\n",
       "[1 rows x 21 columns]"
      ]
     },
     "execution_count": 37,
     "metadata": {},
     "output_type": "execute_result"
    }
   ],
   "source": [
    "feat_data.head(1)"
   ]
  },
  {
   "cell_type": "code",
   "execution_count": 38,
   "metadata": {},
   "outputs": [],
   "source": [
    "feat_test = feat_data.loc[feat_data.Survived == -1]\n",
    "feat_test.drop('Survived', axis=1, inplace = True)\n",
    "feat_train = feat_data.loc[feat_data.Survived != -1]"
   ]
  },
  {
   "cell_type": "code",
   "execution_count": 39,
   "metadata": {},
   "outputs": [],
   "source": [
    "X = feat_train.drop('Survived', axis = 1)\n",
    "Y = pd.DataFrame(feat_train.Survived)"
   ]
  },
  {
   "cell_type": "code",
   "execution_count": 40,
   "metadata": {},
   "outputs": [],
   "source": [
    "from sklearn.ensemble import RandomForestClassifier\n",
    "forest = RandomForestClassifier(n_estimators = 10, criterion = 'entropy', random_state = 0)"
   ]
  },
  {
   "cell_type": "code",
   "execution_count": 41,
   "metadata": {},
   "outputs": [],
   "source": [
    "from sklearn.model_selection import cross_val_score\n",
    "from sklearn.feature_selection import SelectFromModel"
   ]
  },
  {
   "cell_type": "code",
   "execution_count": 42,
   "metadata": {},
   "outputs": [
    {
     "data": {
      "text/plain": [
       "0.8115480649188515"
      ]
     },
     "execution_count": 42,
     "metadata": {},
     "output_type": "execute_result"
    }
   ],
   "source": [
    "cross_val_score(forest, X, Y, cv = 10).mean()"
   ]
  },
  {
   "cell_type": "code",
   "execution_count": 43,
   "metadata": {},
   "outputs": [
    {
     "name": "stdout",
     "output_type": "stream",
     "text": [
      "Index(['Sex', 'Age', 'Fare', 'Title', 'True_Fare'], dtype='object')\n"
     ]
    }
   ],
   "source": [
    "select_forest = SelectFromModel(estimator=forest)\n",
    "new_X = select_forest.fit(X,Y) \n",
    "selected_feat= X.columns[(select_forest.get_support())]\n",
    "len(selected_feat)\n",
    "\n",
    "print(selected_feat)"
   ]
  },
  {
   "cell_type": "markdown",
   "metadata": {},
   "source": [
    "Suggested Feature Selection For Logistic Regression"
   ]
  },
  {
   "cell_type": "code",
   "execution_count": 44,
   "metadata": {},
   "outputs": [],
   "source": [
    "  from sklearn.linear_model import LogisticRegression\n",
    "  log = LogisticRegression(random_state = 0)\n",
    " "
   ]
  },
  {
   "cell_type": "code",
   "execution_count": 45,
   "metadata": {},
   "outputs": [
    {
     "data": {
      "text/plain": [
       "0.7856554307116105"
      ]
     },
     "execution_count": 45,
     "metadata": {},
     "output_type": "execute_result"
    }
   ],
   "source": [
    "cross_val_score(log, X, Y, cv = 10).mean()"
   ]
  },
  {
   "cell_type": "code",
   "execution_count": 46,
   "metadata": {},
   "outputs": [
    {
     "name": "stdout",
     "output_type": "stream",
     "text": [
      "Index(['Pclass', 'Sex', 'isAgeNull', 'isCabinNull'], dtype='object')\n"
     ]
    }
   ],
   "source": [
    "select_log = SelectFromModel(estimator=log)\n",
    "new_X = select_log.fit_transform(X,Y) \n",
    "selected_feat= X.columns[(select_log.get_support())]\n",
    "len(selected_feat)\n",
    "print(selected_feat)"
   ]
  },
  {
   "cell_type": "markdown",
   "metadata": {},
   "source": [
    "Suggested Feature Selection For Decision Tree Classifier"
   ]
  },
  {
   "cell_type": "code",
   "execution_count": 47,
   "metadata": {},
   "outputs": [],
   "source": [
    "from sklearn.tree import DecisionTreeClassifier\n",
    "tree = DecisionTreeClassifier(criterion = 'entropy', random_state = 0)"
   ]
  },
  {
   "cell_type": "code",
   "execution_count": 48,
   "metadata": {},
   "outputs": [
    {
     "data": {
      "text/plain": [
       "0.8092634207240949"
      ]
     },
     "execution_count": 48,
     "metadata": {},
     "output_type": "execute_result"
    }
   ],
   "source": [
    "cross_val_score(tree, X, Y, cv = 10).mean()"
   ]
  },
  {
   "cell_type": "code",
   "execution_count": 49,
   "metadata": {},
   "outputs": [
    {
     "name": "stdout",
     "output_type": "stream",
     "text": [
      "Index(['Pclass', 'Sex', 'Age', 'Fare', 'True_Fare'], dtype='object')\n"
     ]
    }
   ],
   "source": [
    "select_tree = SelectFromModel(estimator=tree)\n",
    "new_X = select_tree.fit(X,Y) \n",
    "selected_feat= X.columns[(select_tree.get_support())]\n",
    "len(selected_feat)\n",
    "print(selected_feat)"
   ]
  },
  {
   "cell_type": "code",
   "execution_count": 50,
   "metadata": {},
   "outputs": [],
   "source": [
    "# This sub is tailored to the logistic regression as defined above\n",
    "sub1 = data[['Survived','Pclass','Sex','isAgeNull', 'isCabinNull']].copy()\n",
    "# This sub is tailored to the Decision Tree Classifier as defined above\n",
    "sub2 = data[['Survived','Pclass','Sex','Age','Fare', 'True_Fare']].copy()\n",
    "# This sub is tailored to the Random forest as defined above\n",
    "sub3 = data[['Survived', 'Sex', 'Age','Fare', 'Title', 'True_Fare']].copy()"
   ]
  },
  {
   "cell_type": "markdown",
   "metadata": {},
   "source": [
    "### Model Building\n"
   ]
  },
  {
   "cell_type": "code",
   "execution_count": 51,
   "metadata": {},
   "outputs": [],
   "source": [
    "#Create a function within many Machine Learning Models\n",
    "def models(X_train,Y_train):\n",
    "  \n",
    "  #Using Logistic Regression Algorithm to the Training Set\n",
    "  from sklearn.linear_model import LogisticRegression\n",
    "  log = LogisticRegression(random_state = 0)\n",
    "  log.fit(X_train, Y_train)\n",
    "  \n",
    "  #Using KNeighborsClassifier Method of neighbors class to use Nearest Neighbor algorithm\n",
    "  from sklearn.tree import DecisionTreeClassifier\n",
    "  tree = DecisionTreeClassifier(criterion = 'entropy', random_state = 0)\n",
    "  tree.fit(X_train, Y_train)\n",
    "\n",
    "  #Using RandomForestClassifier method of ensemble class to use Random Forest Classification algorithm\n",
    "  from sklearn.ensemble import RandomForestClassifier\n",
    "  forest = RandomForestClassifier(n_estimators = 10, criterion = 'entropy', random_state = 0)\n",
    "  forest.fit(X_train, Y_train)\n",
    "  \n",
    "  #print model accuracy on the training data.\n",
    "  print('[0]Logistic Regression Training Accuracy:', log.score(X_train, Y_train))\n",
    "  print('[1]Decsion Tree Classifier Training Accuracy:', tree.score(X_train, Y_train))\n",
    "  print('[2]Random Forest Classifier Training Accuracy:', forest.score(X_train, Y_train))\n",
    "  \n",
    "  return log, tree, forest"
   ]
  },
  {
   "cell_type": "code",
   "execution_count": 52,
   "metadata": {},
   "outputs": [],
   "source": [
    "from sklearn.metrics import confusion_matrix \n",
    "def testSet(set):\n",
    "    test = set.loc[set.Survived == -1]\n",
    "    test.drop('Survived', axis=1, inplace = True)\n",
    "    train = set.loc[set.Survived != -1]\n",
    "    \n",
    "    num_features = 14\n",
    "    X = train.iloc[:, 1:num_features].values \n",
    "    Y = train.iloc[:, 0].values\n",
    "    \n",
    "    # Split the dataset into 80% Training set and 20% Testing set\n",
    "    from sklearn.model_selection import train_test_split\n",
    "    X_train, X_test, Y_train, Y_test = train_test_split(X, Y, test_size = 0.2, random_state = 0)\n",
    "\n",
    "    #Get and train all of the models\n",
    "    model = models(X_train,Y_train)\n",
    "\n",
    "    #Print Confusion Matrices\n",
    "    for i in range(len(model)):\n",
    "        cm = confusion_matrix(Y_test, model[i].predict(X_test)) \n",
    "        #extracting TN, FP, FN, TP\n",
    "        TN, FP, FN, TP = confusion_matrix(Y_test, model[i].predict(X_test)).ravel()\n",
    "        print('Model[{}] Testing Accuracy = \"{} !\"'.format(i,  (TP + TN) / (TP + TN + FN + FP)))"
   ]
  },
  {
   "cell_type": "code",
   "execution_count": 53,
   "metadata": {},
   "outputs": [
    {
     "name": "stdout",
     "output_type": "stream",
     "text": [
      "[0]Logistic Regression Training Accuracy: 0.7865168539325843\n",
      "[1]Decsion Tree Classifier Training Accuracy: 0.7963483146067416\n",
      "[2]Random Forest Classifier Training Accuracy: 0.7963483146067416\n",
      "Model[0] Testing Accuracy = \"0.7877094972067039 !\"\n",
      "Model[1] Testing Accuracy = \"0.8044692737430168 !\"\n",
      "Model[2] Testing Accuracy = \"0.8044692737430168 !\"\n"
     ]
    }
   ],
   "source": [
    "testSet(sub1)"
   ]
  },
  {
   "cell_type": "code",
   "execution_count": 54,
   "metadata": {},
   "outputs": [
    {
     "name": "stdout",
     "output_type": "stream",
     "text": [
      "[0]Logistic Regression Training Accuracy: 0.800561797752809\n",
      "[1]Decsion Tree Classifier Training Accuracy: 0.9803370786516854\n",
      "[2]Random Forest Classifier Training Accuracy: 0.9648876404494382\n",
      "Model[0] Testing Accuracy = \"0.7932960893854749 !\"\n",
      "Model[1] Testing Accuracy = \"0.8044692737430168 !\"\n",
      "Model[2] Testing Accuracy = \"0.8044692737430168 !\"\n"
     ]
    }
   ],
   "source": [
    "testSet(sub2)"
   ]
  },
  {
   "cell_type": "code",
   "execution_count": 55,
   "metadata": {},
   "outputs": [
    {
     "name": "stdout",
     "output_type": "stream",
     "text": [
      "[0]Logistic Regression Training Accuracy: 0.7921348314606742\n",
      "[1]Decsion Tree Classifier Training Accuracy: 0.9831460674157303\n",
      "[2]Random Forest Classifier Training Accuracy: 0.9662921348314607\n",
      "Model[0] Testing Accuracy = \"0.776536312849162 !\"\n",
      "Model[1] Testing Accuracy = \"0.776536312849162 !\"\n",
      "Model[2] Testing Accuracy = \"0.8100558659217877 !\"\n"
     ]
    }
   ],
   "source": [
    "testSet(sub3)"
   ]
  },
  {
   "cell_type": "markdown",
   "metadata": {},
   "source": [
    "The results above show us that the random forest is the best performing Machine learning model by taking into account both training and testing accuracies, aswell as the highest cross validation score of the three models. This makes sense as the model is very good at handling large data sets. It can perform both regression and classification tasks. As a result we have chosen to move forward with the Random Forest Classifier."
   ]
  },
  {
   "cell_type": "markdown",
   "metadata": {},
   "source": [
    "# ML Tuning"
   ]
  },
  {
   "cell_type": "markdown",
   "metadata": {},
   "source": [
    "### Parameter Selection"
   ]
  },
  {
   "cell_type": "markdown",
   "metadata": {},
   "source": [
    "First we will submit our predictions for the random forest classifier to Kaggle using the parameters giving above. "
   ]
  },
  {
   "cell_type": "code",
   "execution_count": 56,
   "metadata": {},
   "outputs": [],
   "source": [
    "subKag = data[['Survived', 'Sex', 'Age','Fare', 'Title', 'True_Fare']].copy()"
   ]
  },
  {
   "cell_type": "code",
   "execution_count": 57,
   "metadata": {},
   "outputs": [
    {
     "data": {
      "text/html": [
       "<div>\n",
       "<style scoped>\n",
       "    .dataframe tbody tr th:only-of-type {\n",
       "        vertical-align: middle;\n",
       "    }\n",
       "\n",
       "    .dataframe tbody tr th {\n",
       "        vertical-align: top;\n",
       "    }\n",
       "\n",
       "    .dataframe thead th {\n",
       "        text-align: right;\n",
       "    }\n",
       "</style>\n",
       "<table border=\"1\" class=\"dataframe\">\n",
       "  <thead>\n",
       "    <tr style=\"text-align: right;\">\n",
       "      <th></th>\n",
       "      <th>Survived</th>\n",
       "      <th>Sex</th>\n",
       "      <th>Age</th>\n",
       "      <th>Fare</th>\n",
       "      <th>Title</th>\n",
       "      <th>True_Fare</th>\n",
       "    </tr>\n",
       "  </thead>\n",
       "  <tbody>\n",
       "    <tr>\n",
       "      <th>0</th>\n",
       "      <td>0</td>\n",
       "      <td>1</td>\n",
       "      <td>22.0</td>\n",
       "      <td>7.2500</td>\n",
       "      <td>2</td>\n",
       "      <td>7.25000</td>\n",
       "    </tr>\n",
       "    <tr>\n",
       "      <th>1</th>\n",
       "      <td>1</td>\n",
       "      <td>0</td>\n",
       "      <td>38.0</td>\n",
       "      <td>71.2833</td>\n",
       "      <td>3</td>\n",
       "      <td>35.64165</td>\n",
       "    </tr>\n",
       "    <tr>\n",
       "      <th>2</th>\n",
       "      <td>1</td>\n",
       "      <td>0</td>\n",
       "      <td>26.0</td>\n",
       "      <td>7.9250</td>\n",
       "      <td>1</td>\n",
       "      <td>7.92500</td>\n",
       "    </tr>\n",
       "    <tr>\n",
       "      <th>3</th>\n",
       "      <td>1</td>\n",
       "      <td>0</td>\n",
       "      <td>35.0</td>\n",
       "      <td>53.1000</td>\n",
       "      <td>3</td>\n",
       "      <td>26.55000</td>\n",
       "    </tr>\n",
       "    <tr>\n",
       "      <th>4</th>\n",
       "      <td>0</td>\n",
       "      <td>1</td>\n",
       "      <td>35.0</td>\n",
       "      <td>8.0500</td>\n",
       "      <td>2</td>\n",
       "      <td>8.05000</td>\n",
       "    </tr>\n",
       "  </tbody>\n",
       "</table>\n",
       "</div>"
      ],
      "text/plain": [
       "   Survived  Sex   Age     Fare  Title  True_Fare\n",
       "0         0    1  22.0   7.2500      2    7.25000\n",
       "1         1    0  38.0  71.2833      3   35.64165\n",
       "2         1    0  26.0   7.9250      1    7.92500\n",
       "3         1    0  35.0  53.1000      3   26.55000\n",
       "4         0    1  35.0   8.0500      2    8.05000"
      ]
     },
     "execution_count": 57,
     "metadata": {},
     "output_type": "execute_result"
    }
   ],
   "source": [
    "subKag.head()"
   ]
  },
  {
   "cell_type": "code",
   "execution_count": 58,
   "metadata": {},
   "outputs": [
    {
     "data": {
      "text/plain": [
       "RandomForestClassifier(criterion='entropy', n_estimators=10, random_state=0)"
      ]
     },
     "execution_count": 58,
     "metadata": {},
     "output_type": "execute_result"
    }
   ],
   "source": [
    "from sklearn.ensemble import RandomForestClassifier\n",
    "forest = RandomForestClassifier(n_estimators = 10, criterion = 'entropy', random_state = 0)\n",
    "\n",
    "test = subKag.loc[subKag.Survived == -1]\n",
    "test.drop('Survived', axis=1, inplace = True)\n",
    "train = subKag.loc[subKag.Survived != -1]\n",
    "\n",
    "num_features = 14\n",
    "X = train.iloc[:, 1:num_features].values \n",
    "Y = train.iloc[:, 0].values\n",
    "\n",
    "forest.fit(X, Y)"
   ]
  },
  {
   "cell_type": "code",
   "execution_count": 59,
   "metadata": {},
   "outputs": [
    {
     "name": "stdout",
     "output_type": "stream",
     "text": [
      "Submission Saved!\n"
     ]
    }
   ],
   "source": [
    "submission_preds = forest.predict(test) \n",
    "df = pd.DataFrame({'PassengerId':test_ids.values,\n",
    "                   'Survived':submission_preds})\n",
    "df.to_csv('submission1.csv', index=False)\n",
    "print('Submission Saved!')"
   ]
  },
  {
   "cell_type": "markdown",
   "metadata": {},
   "source": [
    "The figure below shows the result of this submission when uploaded to Kaggle is 0.74880\n",
    "\n",
    "![sub1](./pictures/sub1.png)\n",
    "\n",
    "Unfortunately, this is a very low score, as a result, we will need to update the parameters. This is done by using logic and analyzing the importance of each of the parameters."
   ]
  },
  {
   "cell_type": "code",
   "execution_count": 60,
   "metadata": {},
   "outputs": [
    {
     "data": {
      "text/plain": [
       "<AxesSubplot:xlabel='feature'>"
      ]
     },
     "execution_count": 60,
     "metadata": {},
     "output_type": "execute_result"
    },
    {
     "data": {
      "image/png": "[encoded data removed]",
      "text/plain": [
       "<Figure size 432x288 with 1 Axes>"
      ]
     },
     "metadata": {
      "needs_background": "light"
     },
     "output_type": "display_data"
    }
   ],
   "source": [
    "#Get the importance of the features\n",
    "importances = pd.DataFrame({'feature':train.iloc[:, 1:num_features].columns,'importance':np.round(forest.feature_importances_,3)})\n",
    "importances = importances.sort_values('importance',ascending=False).set_index('feature')\n",
    "importances.plot.bar()"
   ]
  },
  {
   "cell_type": "markdown",
   "metadata": {},
   "source": [
    "The graph above shows that the importance of all of the features are nicley distributed, however when analysing the features that are used, some of them do not make complete sense. For instance, Fare should be removed and Age should be replaced by Binned_Age. "
   ]
  },
  {
   "cell_type": "code",
   "execution_count": 61,
   "metadata": {},
   "outputs": [],
   "source": [
    "subKag = data[['Survived', 'Sex', 'binned_age', 'Title', 'True_Fare']].copy()"
   ]
  },
  {
   "cell_type": "code",
   "execution_count": 62,
   "metadata": {},
   "outputs": [
    {
     "data": {
      "text/plain": [
       "RandomForestClassifier(criterion='entropy', n_estimators=10, random_state=0)"
      ]
     },
     "execution_count": 62,
     "metadata": {},
     "output_type": "execute_result"
    }
   ],
   "source": [
    "from sklearn.ensemble import RandomForestClassifier\n",
    "forest = RandomForestClassifier(n_estimators = 10, criterion = 'entropy', random_state = 0)\n",
    "\n",
    "test = subKag.loc[subKag.Survived == -1]\n",
    "test.drop('Survived', axis=1, inplace = True)\n",
    "train = subKag.loc[subKag.Survived != -1]\n",
    "\n",
    "num_features = 14\n",
    "X = train.iloc[:, 1:num_features].values \n",
    "Y = train.iloc[:, 0].values\n",
    "\n",
    "forest.fit(X, Y)"
   ]
  },
  {
   "cell_type": "code",
   "execution_count": 63,
   "metadata": {},
   "outputs": [
    {
     "name": "stdout",
     "output_type": "stream",
     "text": [
      "Submission Saved!\n"
     ]
    }
   ],
   "source": [
    "submission_preds = forest.predict(test) \n",
    "df = pd.DataFrame({'PassengerId':test_ids.values,\n",
    "                   'Survived':submission_preds})\n",
    "df.to_csv('submission2.csv', index=False)\n",
    "print('Submission Saved!')"
   ]
  },
  {
   "cell_type": "markdown",
   "metadata": {},
   "source": [
    "The figure below shows the result of this submission when uploaded to Kaggle is 0.75119 - An improvement. \n",
    "\n",
    "![sub1](./pictures/sub2.png)\n",
    "\n",
    "This score is still very low, we will need to further refine the params. Again this is done by looking at the importances and using logic. "
   ]
  },
  {
   "cell_type": "code",
   "execution_count": 64,
   "metadata": {},
   "outputs": [
    {
     "data": {
      "text/plain": [
       "<AxesSubplot:xlabel='feature'>"
      ]
     },
     "execution_count": 64,
     "metadata": {},
     "output_type": "execute_result"
    },
    {
     "data": {
      "image/png": "[encoded data removed]",
      "text/plain": [
       "<Figure size 432x288 with 1 Axes>"
      ]
     },
     "metadata": {
      "needs_background": "light"
     },
     "output_type": "display_data"
    }
   ],
   "source": [
    "#Get the importance of the features\n",
    "importances = pd.DataFrame({'feature':train.iloc[:, 1:num_features].columns,'importance':np.round(forest.feature_importances_,3)})\n",
    "importances = importances.sort_values('importance',ascending=False).set_index('feature')\n",
    "importances.plot.bar()"
   ]
  },
  {
   "cell_type": "markdown",
   "metadata": {},
   "source": [
    "After Repeating this process many times we find that the best parameters to use are as follows: \n",
    "* Title \n",
    "* Shared_ticket_bin\n",
    "* Pclass\n",
    "* binned_age\n",
    "\n",
    "These parameters are likely the best because they account for almost all of the data in the smallest number of parameters. For instance, shared_ticket_bin includes information about family members as well as other member's, passengers might be traveling with. Title contains information about the passenger sex and socioeconomic standing and binned age contains more continuous information about the age of the passenger. \n",
    "\n",
    "The above demonstrates, that while it is important to understand all the data, it is also important to not fall into the trap of overfitting the model. However, if we started with this mindset we would not have developed and explored parameters like Name and Ticket, which initially come off as useless. Fortunately, we did, and this led us to obtain two of the four parameters that we eventually used in this model.\n",
    "\n",
    "\n",
    "* Title\n",
    "* Shared_Ticket_Bin"
   ]
  },
  {
   "cell_type": "code",
   "execution_count": 65,
   "metadata": {},
   "outputs": [],
   "source": [
    "subKag = data[['Survived','Title', 'Shared_Ticket_Bin', 'Pclass', 'binned_age']].copy()"
   ]
  },
  {
   "cell_type": "code",
   "execution_count": 66,
   "metadata": {},
   "outputs": [
    {
     "data": {
      "text/plain": [
       "RandomForestClassifier(criterion='entropy', n_estimators=10, random_state=0)"
      ]
     },
     "execution_count": 66,
     "metadata": {},
     "output_type": "execute_result"
    }
   ],
   "source": [
    "from sklearn.ensemble import RandomForestClassifier\n",
    "forest = RandomForestClassifier(n_estimators = 10, criterion = 'entropy', random_state = 0)\n",
    "\n",
    "test = subKag.loc[subKag.Survived == -1]\n",
    "test.drop('Survived', axis=1, inplace = True)\n",
    "train = subKag.loc[subKag.Survived != -1]\n",
    "\n",
    "num_features = 14\n",
    "X = train.iloc[:, 1:num_features].values \n",
    "Y = train.iloc[:, 0].values\n",
    "\n",
    "forest.fit(X, Y)"
   ]
  },
  {
   "cell_type": "code",
   "execution_count": 67,
   "metadata": {},
   "outputs": [
    {
     "name": "stdout",
     "output_type": "stream",
     "text": [
      "Submission Saved!\n"
     ]
    }
   ],
   "source": [
    "submission_preds = forest.predict(test) \n",
    "df = pd.DataFrame({'PassengerId':test_ids.values,\n",
    "                   'Survived':submission_preds})\n",
    "df.to_csv('submission3.csv', index=False)\n",
    "print('Submission Saved!')"
   ]
  },
  {
   "cell_type": "markdown",
   "metadata": {},
   "source": [
    "The figure below shows the result of this submission when uploaded to Kaggle is 0.79904 - A large improvement over previous scores. \n",
    "\n",
    "![sub1](./pictures/sub3.png)\n"
   ]
  },
  {
   "cell_type": "markdown",
   "metadata": {},
   "source": [
    "# Hyper Params\n",
    "For the hyperparmeters we will be using a Grid search. "
   ]
  },
  {
   "cell_type": "code",
   "execution_count": 68,
   "metadata": {},
   "outputs": [],
   "source": [
    "# X and Y as defined above\n",
    "# Split the dataset into 80% Training set and 20% Testing set\n",
    "from sklearn.model_selection import train_test_split\n",
    "X_train, X_test, Y_train, Y_test = train_test_split(X, Y, test_size = 0.2, random_state = 0)"
   ]
  },
  {
   "cell_type": "code",
   "execution_count": 69,
   "metadata": {},
   "outputs": [],
   "source": [
    "from sklearn.ensemble import RandomForestClassifier\n",
    "from sklearn.metrics import accuracy_score\n",
    "\n",
    "rf = RandomForestClassifier(max_features=4, n_estimators=100, random_state = 0)"
   ]
  },
  {
   "cell_type": "code",
   "execution_count": 70,
   "metadata": {},
   "outputs": [
    {
     "data": {
      "text/plain": [
       "0.7821229050279329"
      ]
     },
     "execution_count": 70,
     "metadata": {},
     "output_type": "execute_result"
    }
   ],
   "source": [
    "rf.fit(X_train, Y_train)\n",
    "rf.score(X_test, Y_test)\n",
    "Y_pred = rf.predict(X_test)\n",
    "accuracy_score(Y_pred, Y_test)"
   ]
  },
  {
   "cell_type": "code",
   "execution_count": 71,
   "metadata": {},
   "outputs": [],
   "source": [
    "from sklearn.pipeline import Pipeline\n",
    "from sklearn.model_selection import GridSearchCV\n",
    "import numpy as np\n",
    "\n",
    "max_features_range = np.arange(1,5,1)\n",
    "n_estimators_range = np.arange(10,180,10)\n",
    "\n",
    "param_grid = dict(max_features=max_features_range, \n",
    "                n_estimators=n_estimators_range)\n",
    "\n",
    "# Inputting random state here gives better results than when inputting later. \n",
    "rf = RandomForestClassifier(random_state = 0)\n",
    "grid = GridSearchCV(estimator=rf, param_grid=param_grid, cv=5)"
   ]
  },
  {
   "cell_type": "code",
   "execution_count": 72,
   "metadata": {},
   "outputs": [
    {
     "data": {
      "text/plain": [
       "GridSearchCV(cv=5, estimator=RandomForestClassifier(random_state=0),\n",
       "             param_grid={'max_features': array([1, 2, 3, 4]),\n",
       "                         'n_estimators': array([ 10,  20,  30,  40,  50,  60,  70,  80,  90, 100, 110, 120, 130,\n",
       "       140, 150, 160, 170])})"
      ]
     },
     "execution_count": 72,
     "metadata": {},
     "output_type": "execute_result"
    }
   ],
   "source": [
    "grid.fit(X_train, Y_train)"
   ]
  },
  {
   "cell_type": "code",
   "execution_count": 73,
   "metadata": {},
   "outputs": [
    {
     "name": "stdout",
     "output_type": "stream",
     "text": [
      "The best parameters are {'max_features': 2, 'n_estimators': 80} with a score of 0.82\n"
     ]
    }
   ],
   "source": [
    "print(\"The best parameters are %s with a score of %0.2f\"\n",
    "      % (grid.best_params_, grid.best_score_))"
   ]
  },
  {
   "cell_type": "code",
   "execution_count": 74,
   "metadata": {},
   "outputs": [],
   "source": [
    "import pandas as pd\n",
    "\n",
    "grid_results = pd.concat([pd.DataFrame(grid.cv_results_[\"params\"]),pd.DataFrame(grid.cv_results_[\"mean_test_score\"], columns=[\"Accuracy\"])],axis=1)"
   ]
  },
  {
   "cell_type": "code",
   "execution_count": 75,
   "metadata": {},
   "outputs": [],
   "source": [
    "grid_contour = grid_results.groupby(['max_features','n_estimators']).mean()"
   ]
  },
  {
   "cell_type": "code",
   "execution_count": 76,
   "metadata": {},
   "outputs": [
    {
     "data": {
      "text/html": [
       "<div>\n",
       "<style scoped>\n",
       "    .dataframe tbody tr th:only-of-type {\n",
       "        vertical-align: middle;\n",
       "    }\n",
       "\n",
       "    .dataframe tbody tr th {\n",
       "        vertical-align: top;\n",
       "    }\n",
       "\n",
       "    .dataframe thead tr th {\n",
       "        text-align: left;\n",
       "    }\n",
       "\n",
       "    .dataframe thead tr:last-of-type th {\n",
       "        text-align: right;\n",
       "    }\n",
       "</style>\n",
       "<table border=\"1\" class=\"dataframe\">\n",
       "  <thead>\n",
       "    <tr>\n",
       "      <th></th>\n",
       "      <th colspan=\"17\" halign=\"left\">Accuracy</th>\n",
       "    </tr>\n",
       "    <tr>\n",
       "      <th>n_estimators</th>\n",
       "      <th>10</th>\n",
       "      <th>20</th>\n",
       "      <th>30</th>\n",
       "      <th>40</th>\n",
       "      <th>50</th>\n",
       "      <th>60</th>\n",
       "      <th>70</th>\n",
       "      <th>80</th>\n",
       "      <th>90</th>\n",
       "      <th>100</th>\n",
       "      <th>110</th>\n",
       "      <th>120</th>\n",
       "      <th>130</th>\n",
       "      <th>140</th>\n",
       "      <th>150</th>\n",
       "      <th>160</th>\n",
       "      <th>170</th>\n",
       "    </tr>\n",
       "    <tr>\n",
       "      <th>max_features</th>\n",
       "      <th></th>\n",
       "      <th></th>\n",
       "      <th></th>\n",
       "      <th></th>\n",
       "      <th></th>\n",
       "      <th></th>\n",
       "      <th></th>\n",
       "      <th></th>\n",
       "      <th></th>\n",
       "      <th></th>\n",
       "      <th></th>\n",
       "      <th></th>\n",
       "      <th></th>\n",
       "      <th></th>\n",
       "      <th></th>\n",
       "      <th></th>\n",
       "      <th></th>\n",
       "    </tr>\n",
       "  </thead>\n",
       "  <tbody>\n",
       "    <tr>\n",
       "      <th>1</th>\n",
       "      <td>0.816035</td>\n",
       "      <td>0.817414</td>\n",
       "      <td>0.813208</td>\n",
       "      <td>0.814616</td>\n",
       "      <td>0.816015</td>\n",
       "      <td>0.814616</td>\n",
       "      <td>0.817423</td>\n",
       "      <td>0.814607</td>\n",
       "      <td>0.814607</td>\n",
       "      <td>0.817423</td>\n",
       "      <td>0.816015</td>\n",
       "      <td>0.816015</td>\n",
       "      <td>0.816015</td>\n",
       "      <td>0.816015</td>\n",
       "      <td>0.814607</td>\n",
       "      <td>0.817414</td>\n",
       "      <td>0.811790</td>\n",
       "    </tr>\n",
       "    <tr>\n",
       "      <th>2</th>\n",
       "      <td>0.816035</td>\n",
       "      <td>0.811809</td>\n",
       "      <td>0.813198</td>\n",
       "      <td>0.814607</td>\n",
       "      <td>0.814607</td>\n",
       "      <td>0.814607</td>\n",
       "      <td>0.817414</td>\n",
       "      <td>0.818812</td>\n",
       "      <td>0.817414</td>\n",
       "      <td>0.814607</td>\n",
       "      <td>0.814607</td>\n",
       "      <td>0.814607</td>\n",
       "      <td>0.816005</td>\n",
       "      <td>0.816005</td>\n",
       "      <td>0.816005</td>\n",
       "      <td>0.817404</td>\n",
       "      <td>0.817404</td>\n",
       "    </tr>\n",
       "    <tr>\n",
       "      <th>3</th>\n",
       "      <td>0.817414</td>\n",
       "      <td>0.814607</td>\n",
       "      <td>0.814597</td>\n",
       "      <td>0.816005</td>\n",
       "      <td>0.816005</td>\n",
       "      <td>0.816005</td>\n",
       "      <td>0.818812</td>\n",
       "      <td>0.818812</td>\n",
       "      <td>0.818812</td>\n",
       "      <td>0.817404</td>\n",
       "      <td>0.817404</td>\n",
       "      <td>0.817404</td>\n",
       "      <td>0.817404</td>\n",
       "      <td>0.817404</td>\n",
       "      <td>0.817404</td>\n",
       "      <td>0.817404</td>\n",
       "      <td>0.817404</td>\n",
       "    </tr>\n",
       "    <tr>\n",
       "      <th>4</th>\n",
       "      <td>0.811809</td>\n",
       "      <td>0.811790</td>\n",
       "      <td>0.810381</td>\n",
       "      <td>0.811790</td>\n",
       "      <td>0.814587</td>\n",
       "      <td>0.813188</td>\n",
       "      <td>0.815995</td>\n",
       "      <td>0.815995</td>\n",
       "      <td>0.815995</td>\n",
       "      <td>0.814587</td>\n",
       "      <td>0.814587</td>\n",
       "      <td>0.814587</td>\n",
       "      <td>0.814587</td>\n",
       "      <td>0.814587</td>\n",
       "      <td>0.814587</td>\n",
       "      <td>0.814587</td>\n",
       "      <td>0.814587</td>\n",
       "    </tr>\n",
       "  </tbody>\n",
       "</table>\n",
       "</div>"
      ],
      "text/plain": [
       "              Accuracy                                                    \\\n",
       "n_estimators       10        20        30        40        50        60    \n",
       "max_features                                                               \n",
       "1             0.816035  0.817414  0.813208  0.814616  0.816015  0.814616   \n",
       "2             0.816035  0.811809  0.813198  0.814607  0.814607  0.814607   \n",
       "3             0.817414  0.814607  0.814597  0.816005  0.816005  0.816005   \n",
       "4             0.811809  0.811790  0.810381  0.811790  0.814587  0.813188   \n",
       "\n",
       "                                                                          \\\n",
       "n_estimators       70        80        90        100       110       120   \n",
       "max_features                                                               \n",
       "1             0.817423  0.814607  0.814607  0.817423  0.816015  0.816015   \n",
       "2             0.817414  0.818812  0.817414  0.814607  0.814607  0.814607   \n",
       "3             0.818812  0.818812  0.818812  0.817404  0.817404  0.817404   \n",
       "4             0.815995  0.815995  0.815995  0.814587  0.814587  0.814587   \n",
       "\n",
       "                                                                \n",
       "n_estimators       130       140       150       160       170  \n",
       "max_features                                                    \n",
       "1             0.816015  0.816015  0.814607  0.817414  0.811790  \n",
       "2             0.816005  0.816005  0.816005  0.817404  0.817404  \n",
       "3             0.817404  0.817404  0.817404  0.817404  0.817404  \n",
       "4             0.814587  0.814587  0.814587  0.814587  0.814587  "
      ]
     },
     "execution_count": 76,
     "metadata": {},
     "output_type": "execute_result"
    }
   ],
   "source": [
    "grid_reset = grid_contour.reset_index()\n",
    "grid_reset.columns = ['max_features', 'n_estimators',  'Accuracy']\n",
    "grid_pivot = grid_reset.pivot('max_features', 'n_estimators')\n",
    "grid_pivot"
   ]
  },
  {
   "cell_type": "code",
   "execution_count": 77,
   "metadata": {},
   "outputs": [],
   "source": [
    "x = grid_pivot.columns.levels[1].values\n",
    "y = grid_pivot.index.values\n",
    "z = grid_pivot.values"
   ]
  },
  {
   "cell_type": "code",
   "execution_count": 78,
   "metadata": {},
   "outputs": [
    {
     "data": {
      "application/vnd.plotly.v1+json": {
       "config": {
        "plotlyServerURL": "https://plot.ly"
       },
       "data": [
        {
         "type": "surface",
         "x": [
          10,
          20,
          30,
          40,
          50,
          60,
          70,
          80,
          90,
          100,
          110,
          120,
          130,
          140,
          150,
          160,
          170
         ],
         "y": [
          1,
          2,
          3,
          4
         ],
         "z": [
          [
           0.8160346695557962,
           0.8174135723431497,
           0.8132079188417217,
           0.8146163695459471,
           0.8160149709445484,
           0.8146163695459471,
           0.8174234216487738,
           0.814606520240323,
           0.814606520240323,
           0.8174234216487738,
           0.8160149709445484,
           0.8160149709445484,
           0.8160149709445484,
           0.8160149709445484,
           0.814606520240323,
           0.8174135723431497,
           0.8117896188318724
          ],
          [
           0.8160346695557964,
           0.8118093174431202,
           0.8131980695360976,
           0.814606520240323,
           0.814606520240323,
           0.814606520240323,
           0.8174135723431497,
           0.8188121737417513,
           0.8174135723431497,
           0.8146065202403232,
           0.8146065202403232,
           0.8146065202403232,
           0.8160051216389246,
           0.8160051216389246,
           0.8160051216389246,
           0.8174037230375258,
           0.8174037230375258
          ],
          [
           0.8174135723431497,
           0.814606520240323,
           0.8145966709346991,
           0.8160051216389246,
           0.8160051216389246,
           0.8160051216389246,
           0.8188121737417513,
           0.8188121737417513,
           0.8188121737417513,
           0.8174037230375258,
           0.8174037230375258,
           0.8174037230375258,
           0.8174037230375258,
           0.8174037230375258,
           0.8174037230375258,
           0.8174037230375258,
           0.8174037230375258
          ],
          [
           0.8118093174431202,
           0.8117896188318724,
           0.810381168127647,
           0.8117896188318724,
           0.814586821629075,
           0.8131882202304738,
           0.8159952723333006,
           0.8159952723333006,
           0.8159952723333006,
           0.814586821629075,
           0.814586821629075,
           0.814586821629075,
           0.814586821629075,
           0.814586821629075,
           0.814586821629075,
           0.814586821629075,
           0.814586821629075
          ]
         ]
        }
       ],
       "layout": {
        "autosize": false,
        "height": 800,
        "margin": {
         "b": 65,
         "l": 65,
         "r": 50,
         "t": 90
        },
        "scene": {
         "xaxis": {
          "title": {
           "text": "n_estimators"
          }
         },
         "yaxis": {
          "title": {
           "text": "max_features"
          }
         },
         "zaxis": {
          "title": {
           "text": "Accuracy"
          }
         }
        },
        "template": {
         "data": {
          "bar": [
           {
            "error_x": {
             "color": "#2a3f5f"
            },
            "error_y": {
             "color": "#2a3f5f"
            },
            "marker": {
             "line": {
              "color": "#E5ECF6",
              "width": 0.5
             },
             "pattern": {
              "fillmode": "overlay",
              "size": 10,
              "solidity": 0.2
             }
            },
            "type": "bar"
           }
          ],
          "barpolar": [
           {
            "marker": {
             "line": {
              "color": "#E5ECF6",
              "width": 0.5
             },
             "pattern": {
              "fillmode": "overlay",
              "size": 10,
              "solidity": 0.2
             }
            },
            "type": "barpolar"
           }
          ],
          "carpet": [
           {
            "aaxis": {
             "endlinecolor": "#2a3f5f",
             "gridcolor": "white",
             "linecolor": "white",
             "minorgridcolor": "white",
             "startlinecolor": "#2a3f5f"
            },
            "baxis": {
             "endlinecolor": "#2a3f5f",
             "gridcolor": "white",
             "linecolor": "white",
             "minorgridcolor": "white",
             "startlinecolor": "#2a3f5f"
            },
            "type": "carpet"
           }
          ],
          "choropleth": [
           {
            "colorbar": {
             "outlinewidth": 0,
             "ticks": ""
            },
            "type": "choropleth"
           }
          ],
          "contour": [
           {
            "colorbar": {
             "outlinewidth": 0,
             "ticks": ""
            },
            "colorscale": [
             [
              0,
              "#0d0887"
             ],
             [
              0.1111111111111111,
              "#46039f"
             ],
             [
              0.2222222222222222,
              "#7201a8"
             ],
             [
              0.3333333333333333,
              "#9c179e"
             ],
             [
              0.4444444444444444,
              "#bd3786"
             ],
             [
              0.5555555555555556,
              "#d8576b"
             ],
             [
              0.6666666666666666,
              "#ed7953"
             ],
             [
              0.7777777777777778,
              "#fb9f3a"
             ],
             [
              0.8888888888888888,
              "#fdca26"
             ],
             [
              1,
              "#f0f921"
             ]
            ],
            "type": "contour"
           }
          ],
          "contourcarpet": [
           {
            "colorbar": {
             "outlinewidth": 0,
             "ticks": ""
            },
            "type": "contourcarpet"
           }
          ],
          "heatmap": [
           {
            "colorbar": {
             "outlinewidth": 0,
             "ticks": ""
            },
            "colorscale": [
             [
              0,
              "#0d0887"
             ],
             [
              0.1111111111111111,
              "#46039f"
             ],
             [
              0.2222222222222222,
              "#7201a8"
             ],
             [
              0.3333333333333333,
              "#9c179e"
             ],
             [
              0.4444444444444444,
              "#bd3786"
             ],
             [
              0.5555555555555556,
              "#d8576b"
             ],
             [
              0.6666666666666666,
              "#ed7953"
             ],
             [
              0.7777777777777778,
              "#fb9f3a"
             ],
             [
              0.8888888888888888,
              "#fdca26"
             ],
             [
              1,
              "#f0f921"
             ]
            ],
            "type": "heatmap"
           }
          ],
          "heatmapgl": [
           {
            "colorbar": {
             "outlinewidth": 0,
             "ticks": ""
            },
            "colorscale": [
             [
              0,
              "#0d0887"
             ],
             [
              0.1111111111111111,
              "#46039f"
             ],
             [
              0.2222222222222222,
              "#7201a8"
             ],
             [
              0.3333333333333333,
              "#9c179e"
             ],
             [
              0.4444444444444444,
              "#bd3786"
             ],
             [
              0.5555555555555556,
              "#d8576b"
             ],
             [
              0.6666666666666666,
              "#ed7953"
             ],
             [
              0.7777777777777778,
              "#fb9f3a"
             ],
             [
              0.8888888888888888,
              "#fdca26"
             ],
             [
              1,
              "#f0f921"
             ]
            ],
            "type": "heatmapgl"
           }
          ],
          "histogram": [
           {
            "marker": {
             "pattern": {
              "fillmode": "overlay",
              "size": 10,
              "solidity": 0.2
             }
            },
            "type": "histogram"
           }
          ],
          "histogram2d": [
           {
            "colorbar": {
             "outlinewidth": 0,
             "ticks": ""
            },
            "colorscale": [
             [
              0,
              "#0d0887"
             ],
             [
              0.1111111111111111,
              "#46039f"
             ],
             [
              0.2222222222222222,
              "#7201a8"
             ],
             [
              0.3333333333333333,
              "#9c179e"
             ],
             [
              0.4444444444444444,
              "#bd3786"
             ],
             [
              0.5555555555555556,
              "#d8576b"
             ],
             [
              0.6666666666666666,
              "#ed7953"
             ],
             [
              0.7777777777777778,
              "#fb9f3a"
             ],
             [
              0.8888888888888888,
              "#fdca26"
             ],
             [
              1,
              "#f0f921"
             ]
            ],
            "type": "histogram2d"
           }
          ],
          "histogram2dcontour": [
           {
            "colorbar": {
             "outlinewidth": 0,
             "ticks": ""
            },
            "colorscale": [
             [
              0,
              "#0d0887"
             ],
             [
              0.1111111111111111,
              "#46039f"
             ],
             [
              0.2222222222222222,
              "#7201a8"
             ],
             [
              0.3333333333333333,
              "#9c179e"
             ],
             [
              0.4444444444444444,
              "#bd3786"
             ],
             [
              0.5555555555555556,
              "#d8576b"
             ],
             [
              0.6666666666666666,
              "#ed7953"
             ],
             [
              0.7777777777777778,
              "#fb9f3a"
             ],
             [
              0.8888888888888888,
              "#fdca26"
             ],
             [
              1,
              "#f0f921"
             ]
            ],
            "type": "histogram2dcontour"
           }
          ],
          "mesh3d": [
           {
            "colorbar": {
             "outlinewidth": 0,
             "ticks": ""
            },
            "type": "mesh3d"
           }
          ],
          "parcoords": [
           {
            "line": {
             "colorbar": {
              "outlinewidth": 0,
              "ticks": ""
             }
            },
            "type": "parcoords"
           }
          ],
          "pie": [
           {
            "automargin": true,
            "type": "pie"
           }
          ],
          "scatter": [
           {
            "fillpattern": {
             "fillmode": "overlay",
             "size": 10,
             "solidity": 0.2
            },
            "type": "scatter"
           }
          ],
          "scatter3d": [
           {
            "line": {
             "colorbar": {
              "outlinewidth": 0,
              "ticks": ""
             }
            },
            "marker": {
             "colorbar": {
              "outlinewidth": 0,
              "ticks": ""
             }
            },
            "type": "scatter3d"
           }
          ],
          "scattercarpet": [
           {
            "marker": {
             "colorbar": {
              "outlinewidth": 0,
              "ticks": ""
             }
            },
            "type": "scattercarpet"
           }
          ],
          "scattergeo": [
           {
            "marker": {
             "colorbar": {
              "outlinewidth": 0,
              "ticks": ""
             }
            },
            "type": "scattergeo"
           }
          ],
          "scattergl": [
           {
            "marker": {
             "colorbar": {
              "outlinewidth": 0,
              "ticks": ""
             }
            },
            "type": "scattergl"
           }
          ],
          "scattermapbox": [
           {
            "marker": {
             "colorbar": {
              "outlinewidth": 0,
              "ticks": ""
             }
            },
            "type": "scattermapbox"
           }
          ],
          "scatterpolar": [
           {
            "marker": {
             "colorbar": {
              "outlinewidth": 0,
              "ticks": ""
             }
            },
            "type": "scatterpolar"
           }
          ],
          "scatterpolargl": [
           {
            "marker": {
             "colorbar": {
              "outlinewidth": 0,
              "ticks": ""
             }
            },
            "type": "scatterpolargl"
           }
          ],
          "scatterternary": [
           {
            "marker": {
             "colorbar": {
              "outlinewidth": 0,
              "ticks": ""
             }
            },
            "type": "scatterternary"
           }
          ],
          "surface": [
           {
            "colorbar": {
             "outlinewidth": 0,
             "ticks": ""
            },
            "colorscale": [
             [
              0,
              "#0d0887"
             ],
             [
              0.1111111111111111,
              "#46039f"
             ],
             [
              0.2222222222222222,
              "#7201a8"
             ],
             [
              0.3333333333333333,
              "#9c179e"
             ],
             [
              0.4444444444444444,
              "#bd3786"
             ],
             [
              0.5555555555555556,
              "#d8576b"
             ],
             [
              0.6666666666666666,
              "#ed7953"
             ],
             [
              0.7777777777777778,
              "#fb9f3a"
             ],
             [
              0.8888888888888888,
              "#fdca26"
             ],
             [
              1,
              "#f0f921"
             ]
            ],
            "type": "surface"
           }
          ],
          "table": [
           {
            "cells": {
             "fill": {
              "color": "#EBF0F8"
             },
             "line": {
              "color": "white"
             }
            },
            "header": {
             "fill": {
              "color": "#C8D4E3"
             },
             "line": {
              "color": "white"
             }
            },
            "type": "table"
           }
          ]
         },
         "layout": {
          "annotationdefaults": {
           "arrowcolor": "#2a3f5f",
           "arrowhead": 0,
           "arrowwidth": 1
          },
          "autotypenumbers": "strict",
          "coloraxis": {
           "colorbar": {
            "outlinewidth": 0,
            "ticks": ""
           }
          },
          "colorscale": {
           "diverging": [
            [
             0,
             "#8e0152"
            ],
            [
             0.1,
             "#c51b7d"
            ],
            [
             0.2,
             "#de77ae"
            ],
            [
             0.3,
             "#f1b6da"
            ],
            [
             0.4,
             "#fde0ef"
            ],
            [
             0.5,
             "#f7f7f7"
            ],
            [
             0.6,
             "#e6f5d0"
            ],
            [
             0.7,
             "#b8e186"
            ],
            [
             0.8,
             "#7fbc41"
            ],
            [
             0.9,
             "#4d9221"
            ],
            [
             1,
             "#276419"
            ]
           ],
           "sequential": [
            [
             0,
             "#0d0887"
            ],
            [
             0.1111111111111111,
             "#46039f"
            ],
            [
             0.2222222222222222,
             "#7201a8"
            ],
            [
             0.3333333333333333,
             "#9c179e"
            ],
            [
             0.4444444444444444,
             "#bd3786"
            ],
            [
             0.5555555555555556,
             "#d8576b"
            ],
            [
             0.6666666666666666,
             "#ed7953"
            ],
            [
             0.7777777777777778,
             "#fb9f3a"
            ],
            [
             0.8888888888888888,
             "#fdca26"
            ],
            [
             1,
             "#f0f921"
            ]
           ],
           "sequentialminus": [
            [
             0,
             "#0d0887"
            ],
            [
             0.1111111111111111,
             "#46039f"
            ],
            [
             0.2222222222222222,
             "#7201a8"
            ],
            [
             0.3333333333333333,
             "#9c179e"
            ],
            [
             0.4444444444444444,
             "#bd3786"
            ],
            [
             0.5555555555555556,
             "#d8576b"
            ],
            [
             0.6666666666666666,
             "#ed7953"
            ],
            [
             0.7777777777777778,
             "#fb9f3a"
            ],
            [
             0.8888888888888888,
             "#fdca26"
            ],
            [
             1,
             "#f0f921"
            ]
           ]
          },
          "colorway": [
           "#636efa",
           "#EF553B",
           "#00cc96",
           "#ab63fa",
           "#FFA15A",
           "#19d3f3",
           "#FF6692",
           "#B6E880",
           "#FF97FF",
           "#FECB52"
          ],
          "font": {
           "color": "#2a3f5f"
          },
          "geo": {
           "bgcolor": "white",
           "lakecolor": "white",
           "landcolor": "#E5ECF6",
           "showlakes": true,
           "showland": true,
           "subunitcolor": "white"
          },
          "hoverlabel": {
           "align": "left"
          },
          "hovermode": "closest",
          "mapbox": {
           "style": "light"
          },
          "paper_bgcolor": "white",
          "plot_bgcolor": "#E5ECF6",
          "polar": {
           "angularaxis": {
            "gridcolor": "white",
            "linecolor": "white",
            "ticks": ""
           },
           "bgcolor": "#E5ECF6",
           "radialaxis": {
            "gridcolor": "white",
            "linecolor": "white",
            "ticks": ""
           }
          },
          "scene": {
           "xaxis": {
            "backgroundcolor": "#E5ECF6",
            "gridcolor": "white",
            "gridwidth": 2,
            "linecolor": "white",
            "showbackground": true,
            "ticks": "",
            "zerolinecolor": "white"
           },
           "yaxis": {
            "backgroundcolor": "#E5ECF6",
            "gridcolor": "white",
            "gridwidth": 2,
            "linecolor": "white",
            "showbackground": true,
            "ticks": "",
            "zerolinecolor": "white"
           },
           "zaxis": {
            "backgroundcolor": "#E5ECF6",
            "gridcolor": "white",
            "gridwidth": 2,
            "linecolor": "white",
            "showbackground": true,
            "ticks": "",
            "zerolinecolor": "white"
           }
          },
          "shapedefaults": {
           "line": {
            "color": "#2a3f5f"
           }
          },
          "ternary": {
           "aaxis": {
            "gridcolor": "white",
            "linecolor": "white",
            "ticks": ""
           },
           "baxis": {
            "gridcolor": "white",
            "linecolor": "white",
            "ticks": ""
           },
           "bgcolor": "#E5ECF6",
           "caxis": {
            "gridcolor": "white",
            "linecolor": "white",
            "ticks": ""
           }
          },
          "title": {
           "x": 0.05
          },
          "xaxis": {
           "automargin": true,
           "gridcolor": "white",
           "linecolor": "white",
           "ticks": "",
           "title": {
            "standoff": 15
           },
           "zerolinecolor": "white",
           "zerolinewidth": 2
          },
          "yaxis": {
           "automargin": true,
           "gridcolor": "white",
           "linecolor": "white",
           "ticks": "",
           "title": {
            "standoff": 15
           },
           "zerolinecolor": "white",
           "zerolinewidth": 2
          }
         }
        },
        "title": {
         "text": "Hyperparameter tuning"
        },
        "width": 800,
        "xaxis": {
         "title": {
          "text": "n_estimators"
         }
        },
        "yaxis": {
         "title": {
          "text": "max_features"
         }
        }
       }
      }
     },
     "metadata": {},
     "output_type": "display_data"
    }
   ],
   "source": [
    "import plotly.graph_objects as go\n",
    "# X and Y axes labels\n",
    "layout = go.Layout(\n",
    "            xaxis=go.layout.XAxis(\n",
    "              title=go.layout.xaxis.Title(\n",
    "              text='n_estimators')\n",
    "             ),\n",
    "             yaxis=go.layout.YAxis(\n",
    "              title=go.layout.yaxis.Title(\n",
    "              text='max_features') \n",
    "            ) )\n",
    "\n",
    "fig = go.Figure(data= [go.Surface(z=z, y=y, x=x)], layout=layout )\n",
    "fig.update_layout(title='Hyperparameter tuning',\n",
    "                  scene = dict(\n",
    "                    xaxis_title='n_estimators',\n",
    "                    yaxis_title='max_features',\n",
    "                    zaxis_title='Accuracy'),\n",
    "                  autosize=False,\n",
    "                  width=800, height=800,\n",
    "                  margin=dict(l=65, r=50, b=65, t=90))\n",
    "fig.show()"
   ]
  },
  {
   "cell_type": "markdown",
   "metadata": {},
   "source": [
    "Using the information provided above we can set the hyperparameters of the model below. This will be the final model that we use in this notebook. "
   ]
  },
  {
   "cell_type": "code",
   "execution_count": 79,
   "metadata": {},
   "outputs": [],
   "source": [
    "#load hyper params into model\n",
    "from sklearn.ensemble import RandomForestClassifier\n",
    "forest = RandomForestClassifier(n_estimators = 80, max_features = 2,  random_state = 0)        # = 80.143%\n",
    "best_mod = forest.fit(X, Y)"
   ]
  },
  {
   "cell_type": "code",
   "execution_count": 80,
   "metadata": {},
   "outputs": [
    {
     "name": "stdout",
     "output_type": "stream",
     "text": [
      "Submission Saved!\n"
     ]
    }
   ],
   "source": [
    "submission_preds = best_mod.predict(test) \n",
    "df = pd.DataFrame({'PassengerId':test_ids.values,\n",
    "                   'Survived':submission_preds})\n",
    "df.to_csv('submission_Hyperparms.csv', index=False)\n",
    "print('Submission Saved!')"
   ]
  },
  {
   "cell_type": "markdown",
   "metadata": {},
   "source": [
    "The figure below shows the final result of the final model. This is a very good score of 0.80143 - one of the highest on the leaderboard.\n",
    "\n",
    "![sub3](./pictures/subhyp.png)\n"
   ]
  },
  {
   "cell_type": "markdown",
   "metadata": {},
   "source": [
    "The figure below shows the standing on the leaderboard. 537 out of 15000 teams.\n",
    "\n",
    "![sub3](./pictures/leader.png)"
   ]
  },
  {
   "cell_type": "markdown",
   "metadata": {},
   "source": [
    "Notice that unlike the other models, the estimated accuracy is very close to that of the achieved accuracy. This shows that the model has been fittet very well. "
   ]
  },
  {
   "cell_type": "markdown",
   "metadata": {},
   "source": [
    "# Training Error Loss and Validation Loss"
   ]
  },
  {
   "cell_type": "markdown",
   "metadata": {},
   "source": [
    "### Training Error\n",
    "Out of the bag error is the way of calculating the error for random forest. It is the average error for each training observation and so this allows Random forest to be fit and validated whilst being trained. "
   ]
  },
  {
   "cell_type": "code",
   "execution_count": 81,
   "metadata": {},
   "outputs": [
    {
     "data": {
      "image/png": "[encoded data removed]",
      "text/plain": [
       "<Figure size 432x288 with 1 Axes>"
      ]
     },
     "metadata": {
      "needs_background": "light"
     },
     "output_type": "display_data"
    }
   ],
   "source": [
    "from collections import OrderedDict\n",
    "from sklearn.datasets import make_classification\n",
    "from sklearn.ensemble import RandomForestClassifier\n",
    "\n",
    "ensemble_clfs = [\n",
    "    (\n",
    "        \"RandomForestClassifier, max_features='4'\",\n",
    "        RandomForestClassifier(\n",
    "            warm_start=True,\n",
    "            oob_score=True,\n",
    "            max_features=4,\n",
    "            random_state=0,\n",
    "        ),\n",
    "    ),\n",
    "    (\n",
    "        \"RandomForestClassifier, max_features='1'\",\n",
    "        RandomForestClassifier(\n",
    "            warm_start=True,\n",
    "            max_features=1,\n",
    "            oob_score=True,\n",
    "            random_state=0,\n",
    "        ),\n",
    "    ),\n",
    "    (\n",
    "        \"RandomForestClassifier, max_features='2'\",\n",
    "        RandomForestClassifier(\n",
    "            warm_start=True,\n",
    "            max_features=2,\n",
    "            oob_score=True,\n",
    "            random_state=0,\n",
    "        ),\n",
    "    ),\n",
    "]\n",
    "\n",
    "\n",
    "# Map a classifier name to a list of (<n_estimators>, <error rate>) pairs.\n",
    "error_rate = OrderedDict((label, []) for label, _ in ensemble_clfs)\n",
    "\n",
    "# Range of `n_estimators` values to explore.\n",
    "min_estimators = 15\n",
    "max_estimators = 150\n",
    "\n",
    "for label, clf in ensemble_clfs:\n",
    "    for i in range(min_estimators, max_estimators + 1, 5):\n",
    "        clf.set_params(n_estimators=i)\n",
    "        clf.fit(X, Y)\n",
    "\n",
    "        # Record the OOB error for each `n_estimators=i` setting.\n",
    "        oob_error = 1 - clf.oob_score_\n",
    "        error_rate[label].append((i, oob_error))\n",
    "\n",
    "# Generate the \"OOB error rate\" vs. \"n_estimators\" plot.\n",
    "for label, clf_err in error_rate.items():\n",
    "    xs, ys = zip(*clf_err)\n",
    "    plt.plot(xs, ys, label=label)\n",
    "\n",
    "plt.xlim(min_estimators, max_estimators)\n",
    "plt.xlabel(\"n_estimators\")\n",
    "plt.ylabel(\"OOB error rate\")\n",
    "plt.legend(loc=\"upper right\")\n",
    "plt.show()"
   ]
  },
  {
   "cell_type": "markdown",
   "metadata": {},
   "source": [
    "# Boosting\n"
   ]
  },
  {
   "cell_type": "markdown",
   "metadata": {},
   "source": [
    "Below Boosting of the Random forest model was done using the AdaBoostClassifier model. From the average accuracy, it is noted that the boosting does not improve the model. And only changes about 3 values, as seen in the confusion matrix."
   ]
  },
  {
   "cell_type": "code",
   "execution_count": 82,
   "metadata": {},
   "outputs": [
    {
     "name": "stdout",
     "output_type": "stream",
     "text": [
      "Train Result:\n",
      "\n",
      "accuracy score: 0.8496\n",
      "\n",
      "Classification Report: \n",
      "               precision    recall  f1-score   support\n",
      "\n",
      "           0       0.84      0.93      0.88       549\n",
      "           1       0.86      0.72      0.79       342\n",
      "\n",
      "    accuracy                           0.85       891\n",
      "   macro avg       0.85      0.83      0.84       891\n",
      "weighted avg       0.85      0.85      0.85       891\n",
      "\n",
      "\n",
      "Confusion Matrix: \n",
      " [[510  39]\n",
      " [ 95 247]]\n",
      "\n",
      "Average Accuracy: \t 0.8081\n",
      "Accuracy SD: \t\t 0.0438\n"
     ]
    }
   ],
   "source": [
    "print_score(best_mod, X, Y, train=True)"
   ]
  },
  {
   "cell_type": "code",
   "execution_count": 83,
   "metadata": {},
   "outputs": [
    {
     "name": "stdout",
     "output_type": "stream",
     "text": [
      "Train Result:\n",
      "\n",
      "accuracy score: 0.8496\n",
      "\n",
      "Classification Report: \n",
      "               precision    recall  f1-score   support\n",
      "\n",
      "           0       0.84      0.94      0.88       549\n",
      "           1       0.87      0.71      0.78       342\n",
      "\n",
      "    accuracy                           0.85       891\n",
      "   macro avg       0.86      0.82      0.83       891\n",
      "weighted avg       0.85      0.85      0.85       891\n",
      "\n",
      "\n",
      "Confusion Matrix: \n",
      " [[514  35]\n",
      " [ 99 243]]\n",
      "\n",
      "Average Accuracy: \t 0.8070\n",
      "Accuracy SD: \t\t 0.0519\n"
     ]
    }
   ],
   "source": [
    "from sklearn.ensemble import RandomForestClassifier\n",
    "from sklearn.ensemble import AdaBoostClassifier\n",
    "ada_clf = AdaBoostClassifier(forest)\n",
    "boost_mod = ada_clf.fit(X, Y);\n",
    "print_score(ada_clf, X, Y, train=True)"
   ]
  },
  {
   "cell_type": "markdown",
   "metadata": {},
   "source": [
    "# Cross Validation"
   ]
  },
  {
   "cell_type": "markdown",
   "metadata": {},
   "source": [
    "The cross validation after the ML tuning of the random forest model decreased. This is strange because the model become more robust when tested by kaggle and looking at the 3D plot. The most important feature used by the model was the title as indicated by the SelectFromModel. \n",
    "The cross validation decreased by about 1% but still out preformed the other models"
   ]
  },
  {
   "cell_type": "code",
   "execution_count": 84,
   "metadata": {},
   "outputs": [],
   "source": [
    "from sklearn.model_selection import cross_val_score\n",
    "from sklearn.feature_selection import SelectFromModel"
   ]
  },
  {
   "cell_type": "code",
   "execution_count": 85,
   "metadata": {},
   "outputs": [],
   "source": [
    "X = train.drop('Survived', axis = 1)\n",
    "Y = pd.DataFrame(train.Survived)"
   ]
  },
  {
   "cell_type": "code",
   "execution_count": 86,
   "metadata": {},
   "outputs": [
    {
     "data": {
      "text/plain": [
       "0.8081023720349563"
      ]
     },
     "execution_count": 86,
     "metadata": {},
     "output_type": "execute_result"
    }
   ],
   "source": [
    "cross_val_score(forest, X, Y, cv = 10).mean()"
   ]
  },
  {
   "cell_type": "code",
   "execution_count": 87,
   "metadata": {},
   "outputs": [
    {
     "name": "stdout",
     "output_type": "stream",
     "text": [
      "Index(['Title'], dtype='object')\n"
     ]
    }
   ],
   "source": [
    "select_forest = SelectFromModel(estimator=forest)\n",
    "new_X = select_forest.fit(X,Y) \n",
    "selected_feat= X.columns[(select_forest.get_support())]\n",
    "len(selected_feat)\n",
    "print(selected_feat)"
   ]
  },
  {
   "cell_type": "markdown",
   "metadata": {},
   "source": [
    "The graph above shows that the OOB for max features of two give a lower and more consistant validation error when compared to when the model uses different max features. This reaffirms that the hyperparams chosen for the final model are a good fit. "
   ]
  },
  {
   "cell_type": "markdown",
   "metadata": {},
   "source": [
    "# Summary and Conclusion\n",
    "\n",
    "The final model was a success, it was able to achieve a very good score and placed highly on the Kaggle leader board, 537 out of 15000 – top 4%. This is due to the data analysis which was a success and provided valuable parameters. Furthermore, the parameter selection was a success and encompassed most of the information contained within the data set, this was achieved by training the model on different subsets of data until the best subset was found. Finally, the hyperparameter tuning using a grid search was a success and increased the final score by 1% - this is a significant increase given that the score was already high. \n",
    "\n",
    "What did not go well, was the finding suitable methods to compare Machine Learning models, to choose the best one. The only method that was used was comparing the training and testing accuracy. While this method did indicate a model that did perform well, there may have been other models that may have performed better, and more investigation would be needed to identify these models. \n",
    "\n",
    "Finally, suitable graphs on Training error and Validation error were not provided adequately. These graphs could’ve been used to find better hyperparameters and better subsets. However, due to time constraints, they could not be fully implemented. \n",
    "\n",
    "The code was inspired by many sources and so the nuances in the code change throughout the notebook. More time could have been spent on unifying the code and making it more presentable, especially by following a constant naming convention. \n",
    "\n",
    "The automated feature selection gave some insight into which features were useful in terms of individual importance. However, the values of importance did not seem to take into account 'repeated' features in the sense that fetures that contained similar data could sometimes both be included. Sex and title were both included for the one model which is redundant since Title indicates the Sex of a passenger. Fare and True_Fare or Pclass were included togehter yet, these features all indicate the income or wealth of a passenger. Including multiple features with similar data points can cause a model to over fit to satisfy those features. \n",
    "\n",
    "The data analysis was performed by both members of the team, with Hraklis Papageorgiou examining the Names, age, and family and Joseph Baggott examining the Ticket, Cabin, and Fare. \n",
    "Both team members worked on trial and error in choosing the best machine learning model and both worked on the hyper Param selection. It can be agreed by both group members that this project was a group effort. \n"
   ]
  },
  {
   "cell_type": "markdown",
   "metadata": {},
   "source": [
    "# References\n",
    "The following References Were Used to Develope The Notebook in This Project:\n",
    "* https://betterprogramming.pub/titanic-survival-prediction-using-machine-learning-4c5ff1e3fa16?gi=c6ec8eae94cc\n",
    "* https://github.com/aladdinpersson/Machine-Learning-Collection\n",
    "* https://github.com/dataprofessor/code/blob/master/python/hyperparameter_tuning.ipynb\n",
    "* http://vitarts.com.br/titanic-machine-learning-from-disaster-kaggle-copetitions/#Rescue-of-family-relationships\n",
    "* https://www.kaggle.com/code/skumar2007ctae/titanic-analysis-with-bagging-and-boosting\n",
    "* https://github.com/ramansah/kaggle-titanic/blob/master/Analysis.ipynb\n",
    "* https://github.com/knathanieltucker/bit-of-data-science-and-scikit-learn/blob/master/notebooks/FeatureSelection.ipynb"
   ]
  }
 ],
 "metadata": {
  "kernelspec": {
   "display_name": "Python 3.10.4 64-bit",
   "language": "python",
   "name": "python3"
  },
  "language_info": {
   "codemirror_mode": {
    "name": "ipython",
    "version": 3
   },
   "file_extension": ".py",
   "mimetype": "text/x-python",
   "name": "python",
   "nbconvert_exporter": "python",
   "pygments_lexer": "ipython3",
   "version": "3.10.4"
  },
  "orig_nbformat": 4,
  "vscode": {
   "interpreter": {
    "hash": "dd53d0a1d985618121d2e9347fd44e5d997d042d9c1e4f5dde4d1326c546abd8"
   }
  }
 },
 "nbformat": 4,
 "nbformat_minor": 2
}
